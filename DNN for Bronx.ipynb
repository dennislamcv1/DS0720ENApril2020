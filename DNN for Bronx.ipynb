{
 "cells": [
  {
   "cell_type": "markdown",
   "metadata": {},
   "source": [
    "### Import Libraries"
   ]
  },
  {
   "cell_type": "code",
   "execution_count": 1,
   "metadata": {},
   "outputs": [],
   "source": [
    "import numpy as np\n",
    "import pandas as pd\n",
    "import matplotlib.pyplot as plt\n",
    "import seaborn as sns\n",
    "import sklearn\n",
    "\n",
    "\n",
    "%matplotlib inline\n",
    "sns.set_style('darkgrid')\n",
    "sns.set(font_scale=1.5)\n",
    "\n",
    "from sklearn.neural_network import MLPClassifier, MLPRegressor\n",
    "from sklearn.utils import shuffle\n",
    "\n",
    "from sklearn.model_selection import cross_val_score, train_test_split, GridSearchCV, RandomizedSearchCV\n",
    "from sklearn.preprocessing import LabelEncoder, StandardScaler, MinMaxScaler, OneHotEncoder\n",
    "from sklearn.metrics import confusion_matrix, classification_report, mean_absolute_error, mean_squared_error,r2_score\n",
    "from sklearn.metrics import plot_confusion_matrix, plot_precision_recall_curve, plot_roc_curve, accuracy_score\n",
    "from sklearn.metrics import auc, f1_score, precision_score, recall_score, roc_auc_score\n",
    "\n",
    "import tensorflow as tf\n",
    "from tensorflow import keras\n",
    "from tensorflow.keras.models import Sequential, save_model\n",
    "from tensorflow.keras.layers import Dense, Dropout, BatchNormalization, Activation\n",
    "from tensorflow.keras.wrappers.scikit_learn import KerasRegressor, KerasClassifier\n",
    "from tensorflow.keras.optimizers import Adam\n",
    "\n",
    "from imblearn.under_sampling import RandomUnderSampler\n",
    "from imblearn.over_sampling import RandomOverSampler\n",
    "\n",
    "import warnings\n",
    "warnings.filterwarnings('ignore')\n",
    "\n",
    "import pickle\n",
    "from pickle import dump, load\n",
    "\n",
    "pd.options.display.max_columns= None\n",
    "#pd.options.display.max_rows = None\n",
    "\n",
    "tf.random.set_seed(0)"
   ]
  },
  {
   "cell_type": "markdown",
   "metadata": {},
   "source": [
    "### Data Exploration"
   ]
  },
  {
   "cell_type": "code",
   "execution_count": 2,
   "metadata": {},
   "outputs": [],
   "source": [
    "df = pd.read_csv(\"bronxbinarytrain.csv\")"
   ]
  },
  {
   "cell_type": "code",
   "execution_count": 3,
   "metadata": {},
   "outputs": [
    {
     "data": {
      "text/html": [
       "<div>\n",
       "<style scoped>\n",
       "    .dataframe tbody tr th:only-of-type {\n",
       "        vertical-align: middle;\n",
       "    }\n",
       "\n",
       "    .dataframe tbody tr th {\n",
       "        vertical-align: top;\n",
       "    }\n",
       "\n",
       "    .dataframe thead th {\n",
       "        text-align: right;\n",
       "    }\n",
       "</style>\n",
       "<table border=\"1\" class=\"dataframe\">\n",
       "  <thead>\n",
       "    <tr style=\"text-align: right;\">\n",
       "      <th></th>\n",
       "      <th>BldgArea</th>\n",
       "      <th>BldgDepth</th>\n",
       "      <th>BuiltFAR</th>\n",
       "      <th>CommFAR</th>\n",
       "      <th>FacilFAR</th>\n",
       "      <th>LotArea</th>\n",
       "      <th>LotDepth</th>\n",
       "      <th>NumFloors</th>\n",
       "      <th>OfficeArea</th>\n",
       "      <th>ResArea</th>\n",
       "      <th>ResidFAR</th>\n",
       "      <th>RetailArea</th>\n",
       "      <th>Age</th>\n",
       "      <th>Period</th>\n",
       "      <th>ComplaintType</th>\n",
       "    </tr>\n",
       "  </thead>\n",
       "  <tbody>\n",
       "    <tr>\n",
       "      <th>0</th>\n",
       "      <td>1268</td>\n",
       "      <td>35.0</td>\n",
       "      <td>0.35</td>\n",
       "      <td>2.0</td>\n",
       "      <td>2.0</td>\n",
       "      <td>3650</td>\n",
       "      <td>95.00</td>\n",
       "      <td>1.67</td>\n",
       "      <td>2628</td>\n",
       "      <td>1268</td>\n",
       "      <td>0.90</td>\n",
       "      <td>2458</td>\n",
       "      <td>50</td>\n",
       "      <td>70</td>\n",
       "      <td>0</td>\n",
       "    </tr>\n",
       "    <tr>\n",
       "      <th>1</th>\n",
       "      <td>7839</td>\n",
       "      <td>45.0</td>\n",
       "      <td>3.08</td>\n",
       "      <td>2.0</td>\n",
       "      <td>3.0</td>\n",
       "      <td>4275</td>\n",
       "      <td>45.00</td>\n",
       "      <td>5.00</td>\n",
       "      <td>2628</td>\n",
       "      <td>6018</td>\n",
       "      <td>3.00</td>\n",
       "      <td>2458</td>\n",
       "      <td>83</td>\n",
       "      <td>103</td>\n",
       "      <td>0</td>\n",
       "    </tr>\n",
       "    <tr>\n",
       "      <th>2</th>\n",
       "      <td>1910</td>\n",
       "      <td>30.0</td>\n",
       "      <td>0.65</td>\n",
       "      <td>2.0</td>\n",
       "      <td>1.0</td>\n",
       "      <td>2917</td>\n",
       "      <td>58.33</td>\n",
       "      <td>2.00</td>\n",
       "      <td>2628</td>\n",
       "      <td>1910</td>\n",
       "      <td>0.60</td>\n",
       "      <td>2458</td>\n",
       "      <td>-6</td>\n",
       "      <td>14</td>\n",
       "      <td>0</td>\n",
       "    </tr>\n",
       "    <tr>\n",
       "      <th>3</th>\n",
       "      <td>1968</td>\n",
       "      <td>40.0</td>\n",
       "      <td>0.39</td>\n",
       "      <td>2.0</td>\n",
       "      <td>1.0</td>\n",
       "      <td>5000</td>\n",
       "      <td>100.00</td>\n",
       "      <td>2.50</td>\n",
       "      <td>2628</td>\n",
       "      <td>1968</td>\n",
       "      <td>0.60</td>\n",
       "      <td>2458</td>\n",
       "      <td>75</td>\n",
       "      <td>95</td>\n",
       "      <td>1</td>\n",
       "    </tr>\n",
       "    <tr>\n",
       "      <th>4</th>\n",
       "      <td>924</td>\n",
       "      <td>30.0</td>\n",
       "      <td>0.51</td>\n",
       "      <td>2.0</td>\n",
       "      <td>2.0</td>\n",
       "      <td>1800</td>\n",
       "      <td>100.00</td>\n",
       "      <td>2.00</td>\n",
       "      <td>2628</td>\n",
       "      <td>924</td>\n",
       "      <td>0.90</td>\n",
       "      <td>2458</td>\n",
       "      <td>75</td>\n",
       "      <td>95</td>\n",
       "      <td>0</td>\n",
       "    </tr>\n",
       "    <tr>\n",
       "      <th>...</th>\n",
       "      <td>...</td>\n",
       "      <td>...</td>\n",
       "      <td>...</td>\n",
       "      <td>...</td>\n",
       "      <td>...</td>\n",
       "      <td>...</td>\n",
       "      <td>...</td>\n",
       "      <td>...</td>\n",
       "      <td>...</td>\n",
       "      <td>...</td>\n",
       "      <td>...</td>\n",
       "      <td>...</td>\n",
       "      <td>...</td>\n",
       "      <td>...</td>\n",
       "      <td>...</td>\n",
       "    </tr>\n",
       "    <tr>\n",
       "      <th>89849</th>\n",
       "      <td>2340</td>\n",
       "      <td>46.0</td>\n",
       "      <td>0.90</td>\n",
       "      <td>2.0</td>\n",
       "      <td>4.8</td>\n",
       "      <td>2500</td>\n",
       "      <td>100.00</td>\n",
       "      <td>2.00</td>\n",
       "      <td>2628</td>\n",
       "      <td>2000</td>\n",
       "      <td>3.44</td>\n",
       "      <td>2458</td>\n",
       "      <td>65</td>\n",
       "      <td>85</td>\n",
       "      <td>1</td>\n",
       "    </tr>\n",
       "    <tr>\n",
       "      <th>89850</th>\n",
       "      <td>3432</td>\n",
       "      <td>52.0</td>\n",
       "      <td>1.51</td>\n",
       "      <td>2.0</td>\n",
       "      <td>2.0</td>\n",
       "      <td>2266</td>\n",
       "      <td>103.00</td>\n",
       "      <td>3.00</td>\n",
       "      <td>2628</td>\n",
       "      <td>3432</td>\n",
       "      <td>1.10</td>\n",
       "      <td>2458</td>\n",
       "      <td>35</td>\n",
       "      <td>55</td>\n",
       "      <td>1</td>\n",
       "    </tr>\n",
       "    <tr>\n",
       "      <th>89851</th>\n",
       "      <td>2420</td>\n",
       "      <td>47.0</td>\n",
       "      <td>1.10</td>\n",
       "      <td>2.0</td>\n",
       "      <td>2.0</td>\n",
       "      <td>2204</td>\n",
       "      <td>100.17</td>\n",
       "      <td>2.00</td>\n",
       "      <td>2628</td>\n",
       "      <td>1760</td>\n",
       "      <td>0.90</td>\n",
       "      <td>2458</td>\n",
       "      <td>45</td>\n",
       "      <td>65</td>\n",
       "      <td>1</td>\n",
       "    </tr>\n",
       "    <tr>\n",
       "      <th>89852</th>\n",
       "      <td>2320</td>\n",
       "      <td>58.0</td>\n",
       "      <td>0.93</td>\n",
       "      <td>2.0</td>\n",
       "      <td>2.0</td>\n",
       "      <td>2500</td>\n",
       "      <td>100.00</td>\n",
       "      <td>2.00</td>\n",
       "      <td>2628</td>\n",
       "      <td>2320</td>\n",
       "      <td>0.90</td>\n",
       "      <td>2458</td>\n",
       "      <td>80</td>\n",
       "      <td>100</td>\n",
       "      <td>1</td>\n",
       "    </tr>\n",
       "    <tr>\n",
       "      <th>89853</th>\n",
       "      <td>1260</td>\n",
       "      <td>35.0</td>\n",
       "      <td>0.51</td>\n",
       "      <td>2.0</td>\n",
       "      <td>2.0</td>\n",
       "      <td>2470</td>\n",
       "      <td>95.00</td>\n",
       "      <td>2.00</td>\n",
       "      <td>2628</td>\n",
       "      <td>1260</td>\n",
       "      <td>0.90</td>\n",
       "      <td>2458</td>\n",
       "      <td>60</td>\n",
       "      <td>80</td>\n",
       "      <td>1</td>\n",
       "    </tr>\n",
       "  </tbody>\n",
       "</table>\n",
       "<p>89854 rows × 15 columns</p>\n",
       "</div>"
      ],
      "text/plain": [
       "       BldgArea  BldgDepth  BuiltFAR  CommFAR  FacilFAR  LotArea  LotDepth  \\\n",
       "0          1268       35.0      0.35      2.0       2.0     3650     95.00   \n",
       "1          7839       45.0      3.08      2.0       3.0     4275     45.00   \n",
       "2          1910       30.0      0.65      2.0       1.0     2917     58.33   \n",
       "3          1968       40.0      0.39      2.0       1.0     5000    100.00   \n",
       "4           924       30.0      0.51      2.0       2.0     1800    100.00   \n",
       "...         ...        ...       ...      ...       ...      ...       ...   \n",
       "89849      2340       46.0      0.90      2.0       4.8     2500    100.00   \n",
       "89850      3432       52.0      1.51      2.0       2.0     2266    103.00   \n",
       "89851      2420       47.0      1.10      2.0       2.0     2204    100.17   \n",
       "89852      2320       58.0      0.93      2.0       2.0     2500    100.00   \n",
       "89853      1260       35.0      0.51      2.0       2.0     2470     95.00   \n",
       "\n",
       "       NumFloors  OfficeArea  ResArea  ResidFAR  RetailArea  Age  Period  \\\n",
       "0           1.67        2628     1268      0.90        2458   50      70   \n",
       "1           5.00        2628     6018      3.00        2458   83     103   \n",
       "2           2.00        2628     1910      0.60        2458   -6      14   \n",
       "3           2.50        2628     1968      0.60        2458   75      95   \n",
       "4           2.00        2628      924      0.90        2458   75      95   \n",
       "...          ...         ...      ...       ...         ...  ...     ...   \n",
       "89849       2.00        2628     2000      3.44        2458   65      85   \n",
       "89850       3.00        2628     3432      1.10        2458   35      55   \n",
       "89851       2.00        2628     1760      0.90        2458   45      65   \n",
       "89852       2.00        2628     2320      0.90        2458   80     100   \n",
       "89853       2.00        2628     1260      0.90        2458   60      80   \n",
       "\n",
       "       ComplaintType  \n",
       "0                  0  \n",
       "1                  0  \n",
       "2                  0  \n",
       "3                  1  \n",
       "4                  0  \n",
       "...              ...  \n",
       "89849              1  \n",
       "89850              1  \n",
       "89851              1  \n",
       "89852              1  \n",
       "89853              1  \n",
       "\n",
       "[89854 rows x 15 columns]"
      ]
     },
     "execution_count": 3,
     "metadata": {},
     "output_type": "execute_result"
    }
   ],
   "source": [
    "df"
   ]
  },
  {
   "cell_type": "code",
   "execution_count": 4,
   "metadata": {},
   "outputs": [
    {
     "data": {
      "text/plain": [
       "BldgArea         0\n",
       "BldgDepth        0\n",
       "BuiltFAR         0\n",
       "CommFAR          0\n",
       "FacilFAR         0\n",
       "LotArea          0\n",
       "LotDepth         0\n",
       "NumFloors        0\n",
       "OfficeArea       0\n",
       "ResArea          0\n",
       "ResidFAR         0\n",
       "RetailArea       0\n",
       "Age              0\n",
       "Period           0\n",
       "ComplaintType    0\n",
       "dtype: int64"
      ]
     },
     "execution_count": 4,
     "metadata": {},
     "output_type": "execute_result"
    }
   ],
   "source": [
    "df.isnull().sum()"
   ]
  },
  {
   "cell_type": "code",
   "execution_count": 5,
   "metadata": {},
   "outputs": [
    {
     "name": "stdout",
     "output_type": "stream",
     "text": [
      "<class 'pandas.core.frame.DataFrame'>\n",
      "RangeIndex: 89854 entries, 0 to 89853\n",
      "Data columns (total 15 columns):\n",
      " #   Column         Non-Null Count  Dtype  \n",
      "---  ------         --------------  -----  \n",
      " 0   BldgArea       89854 non-null  int64  \n",
      " 1   BldgDepth      89854 non-null  float64\n",
      " 2   BuiltFAR       89854 non-null  float64\n",
      " 3   CommFAR        89854 non-null  float64\n",
      " 4   FacilFAR       89854 non-null  float64\n",
      " 5   LotArea        89854 non-null  int64  \n",
      " 6   LotDepth       89854 non-null  float64\n",
      " 7   NumFloors      89854 non-null  float64\n",
      " 8   OfficeArea     89854 non-null  int64  \n",
      " 9   ResArea        89854 non-null  int64  \n",
      " 10  ResidFAR       89854 non-null  float64\n",
      " 11  RetailArea     89854 non-null  int64  \n",
      " 12  Age            89854 non-null  int64  \n",
      " 13  Period         89854 non-null  int64  \n",
      " 14  ComplaintType  89854 non-null  int64  \n",
      "dtypes: float64(7), int64(8)\n",
      "memory usage: 10.3 MB\n"
     ]
    }
   ],
   "source": [
    "df.info()"
   ]
  },
  {
   "cell_type": "code",
   "execution_count": 6,
   "metadata": {},
   "outputs": [
    {
     "data": {
      "text/html": [
       "<div>\n",
       "<style scoped>\n",
       "    .dataframe tbody tr th:only-of-type {\n",
       "        vertical-align: middle;\n",
       "    }\n",
       "\n",
       "    .dataframe tbody tr th {\n",
       "        vertical-align: top;\n",
       "    }\n",
       "\n",
       "    .dataframe thead th {\n",
       "        text-align: right;\n",
       "    }\n",
       "</style>\n",
       "<table border=\"1\" class=\"dataframe\">\n",
       "  <thead>\n",
       "    <tr style=\"text-align: right;\">\n",
       "      <th></th>\n",
       "      <th>BldgArea</th>\n",
       "      <th>BldgDepth</th>\n",
       "      <th>BuiltFAR</th>\n",
       "      <th>CommFAR</th>\n",
       "      <th>FacilFAR</th>\n",
       "      <th>LotArea</th>\n",
       "      <th>LotDepth</th>\n",
       "      <th>NumFloors</th>\n",
       "      <th>OfficeArea</th>\n",
       "      <th>ResArea</th>\n",
       "      <th>ResidFAR</th>\n",
       "      <th>RetailArea</th>\n",
       "      <th>Age</th>\n",
       "      <th>Period</th>\n",
       "      <th>ComplaintType</th>\n",
       "    </tr>\n",
       "  </thead>\n",
       "  <tbody>\n",
       "    <tr>\n",
       "      <th>count</th>\n",
       "      <td>89854.000000</td>\n",
       "      <td>89854.000000</td>\n",
       "      <td>89854.000000</td>\n",
       "      <td>89854.000000</td>\n",
       "      <td>89854.000000</td>\n",
       "      <td>89854.000000</td>\n",
       "      <td>89854.000000</td>\n",
       "      <td>89854.000000</td>\n",
       "      <td>89854.000000</td>\n",
       "      <td>89854.000000</td>\n",
       "      <td>89854.000000</td>\n",
       "      <td>89854.000000</td>\n",
       "      <td>89854.000000</td>\n",
       "      <td>89854.000000</td>\n",
       "      <td>89854.000000</td>\n",
       "    </tr>\n",
       "    <tr>\n",
       "      <th>mean</th>\n",
       "      <td>3023.194026</td>\n",
       "      <td>50.294414</td>\n",
       "      <td>1.082459</td>\n",
       "      <td>1.969679</td>\n",
       "      <td>2.878297</td>\n",
       "      <td>3712.115064</td>\n",
       "      <td>98.212669</td>\n",
       "      <td>2.375609</td>\n",
       "      <td>2608.339072</td>\n",
       "      <td>2350.192345</td>\n",
       "      <td>1.734596</td>\n",
       "      <td>2419.994536</td>\n",
       "      <td>56.995092</td>\n",
       "      <td>77.179146</td>\n",
       "      <td>0.502493</td>\n",
       "    </tr>\n",
       "    <tr>\n",
       "      <th>std</th>\n",
       "      <td>2010.530805</td>\n",
       "      <td>19.907146</td>\n",
       "      <td>0.711358</td>\n",
       "      <td>0.179440</td>\n",
       "      <td>1.576991</td>\n",
       "      <td>2576.492232</td>\n",
       "      <td>16.852655</td>\n",
       "      <td>1.043984</td>\n",
       "      <td>181.223220</td>\n",
       "      <td>1325.998493</td>\n",
       "      <td>1.254187</td>\n",
       "      <td>228.640254</td>\n",
       "      <td>28.762429</td>\n",
       "      <td>28.716494</td>\n",
       "      <td>0.499997</td>\n",
       "    </tr>\n",
       "    <tr>\n",
       "      <th>min</th>\n",
       "      <td>1.000000</td>\n",
       "      <td>2.000000</td>\n",
       "      <td>0.010000</td>\n",
       "      <td>0.500000</td>\n",
       "      <td>1.000000</td>\n",
       "      <td>1.000000</td>\n",
       "      <td>0.080000</td>\n",
       "      <td>0.500000</td>\n",
       "      <td>50.000000</td>\n",
       "      <td>100.000000</td>\n",
       "      <td>0.500000</td>\n",
       "      <td>100.000000</td>\n",
       "      <td>-91.000000</td>\n",
       "      <td>3.000000</td>\n",
       "      <td>0.000000</td>\n",
       "    </tr>\n",
       "    <tr>\n",
       "      <th>25%</th>\n",
       "      <td>1771.000000</td>\n",
       "      <td>36.000000</td>\n",
       "      <td>0.640000</td>\n",
       "      <td>2.000000</td>\n",
       "      <td>2.000000</td>\n",
       "      <td>2200.000000</td>\n",
       "      <td>95.000000</td>\n",
       "      <td>2.000000</td>\n",
       "      <td>2628.000000</td>\n",
       "      <td>1482.000000</td>\n",
       "      <td>0.900000</td>\n",
       "      <td>2458.000000</td>\n",
       "      <td>40.000000</td>\n",
       "      <td>60.000000</td>\n",
       "      <td>0.000000</td>\n",
       "    </tr>\n",
       "    <tr>\n",
       "      <th>50%</th>\n",
       "      <td>2340.000000</td>\n",
       "      <td>46.000000</td>\n",
       "      <td>0.900000</td>\n",
       "      <td>2.000000</td>\n",
       "      <td>2.000000</td>\n",
       "      <td>2513.000000</td>\n",
       "      <td>100.000000</td>\n",
       "      <td>2.000000</td>\n",
       "      <td>2628.000000</td>\n",
       "      <td>2000.000000</td>\n",
       "      <td>1.250000</td>\n",
       "      <td>2458.000000</td>\n",
       "      <td>65.000000</td>\n",
       "      <td>85.000000</td>\n",
       "      <td>1.000000</td>\n",
       "    </tr>\n",
       "    <tr>\n",
       "      <th>75%</th>\n",
       "      <td>3288.000000</td>\n",
       "      <td>55.000000</td>\n",
       "      <td>1.250000</td>\n",
       "      <td>2.000000</td>\n",
       "      <td>4.800000</td>\n",
       "      <td>4250.000000</td>\n",
       "      <td>102.420000</td>\n",
       "      <td>3.000000</td>\n",
       "      <td>2628.000000</td>\n",
       "      <td>2616.000000</td>\n",
       "      <td>2.430000</td>\n",
       "      <td>2458.000000</td>\n",
       "      <td>75.000000</td>\n",
       "      <td>95.000000</td>\n",
       "      <td>1.000000</td>\n",
       "    </tr>\n",
       "    <tr>\n",
       "      <th>max</th>\n",
       "      <td>7839.000000</td>\n",
       "      <td>112.000000</td>\n",
       "      <td>3.080000</td>\n",
       "      <td>2.000000</td>\n",
       "      <td>10.000000</td>\n",
       "      <td>10400.000000</td>\n",
       "      <td>124.680000</td>\n",
       "      <td>6.000000</td>\n",
       "      <td>2628.000000</td>\n",
       "      <td>6018.000000</td>\n",
       "      <td>7.020000</td>\n",
       "      <td>2458.000000</td>\n",
       "      <td>180.000000</td>\n",
       "      <td>200.000000</td>\n",
       "      <td>1.000000</td>\n",
       "    </tr>\n",
       "  </tbody>\n",
       "</table>\n",
       "</div>"
      ],
      "text/plain": [
       "           BldgArea     BldgDepth      BuiltFAR       CommFAR      FacilFAR  \\\n",
       "count  89854.000000  89854.000000  89854.000000  89854.000000  89854.000000   \n",
       "mean    3023.194026     50.294414      1.082459      1.969679      2.878297   \n",
       "std     2010.530805     19.907146      0.711358      0.179440      1.576991   \n",
       "min        1.000000      2.000000      0.010000      0.500000      1.000000   \n",
       "25%     1771.000000     36.000000      0.640000      2.000000      2.000000   \n",
       "50%     2340.000000     46.000000      0.900000      2.000000      2.000000   \n",
       "75%     3288.000000     55.000000      1.250000      2.000000      4.800000   \n",
       "max     7839.000000    112.000000      3.080000      2.000000     10.000000   \n",
       "\n",
       "            LotArea      LotDepth     NumFloors    OfficeArea       ResArea  \\\n",
       "count  89854.000000  89854.000000  89854.000000  89854.000000  89854.000000   \n",
       "mean    3712.115064     98.212669      2.375609   2608.339072   2350.192345   \n",
       "std     2576.492232     16.852655      1.043984    181.223220   1325.998493   \n",
       "min        1.000000      0.080000      0.500000     50.000000    100.000000   \n",
       "25%     2200.000000     95.000000      2.000000   2628.000000   1482.000000   \n",
       "50%     2513.000000    100.000000      2.000000   2628.000000   2000.000000   \n",
       "75%     4250.000000    102.420000      3.000000   2628.000000   2616.000000   \n",
       "max    10400.000000    124.680000      6.000000   2628.000000   6018.000000   \n",
       "\n",
       "           ResidFAR    RetailArea           Age        Period  ComplaintType  \n",
       "count  89854.000000  89854.000000  89854.000000  89854.000000   89854.000000  \n",
       "mean       1.734596   2419.994536     56.995092     77.179146       0.502493  \n",
       "std        1.254187    228.640254     28.762429     28.716494       0.499997  \n",
       "min        0.500000    100.000000    -91.000000      3.000000       0.000000  \n",
       "25%        0.900000   2458.000000     40.000000     60.000000       0.000000  \n",
       "50%        1.250000   2458.000000     65.000000     85.000000       1.000000  \n",
       "75%        2.430000   2458.000000     75.000000     95.000000       1.000000  \n",
       "max        7.020000   2458.000000    180.000000    200.000000       1.000000  "
      ]
     },
     "execution_count": 6,
     "metadata": {},
     "output_type": "execute_result"
    }
   ],
   "source": [
    "df.describe(include='all')"
   ]
  },
  {
   "cell_type": "code",
   "execution_count": 7,
   "metadata": {},
   "outputs": [
    {
     "data": {
      "text/plain": [
       "(89854, 15)"
      ]
     },
     "execution_count": 7,
     "metadata": {},
     "output_type": "execute_result"
    }
   ],
   "source": [
    "df.shape"
   ]
  },
  {
   "cell_type": "code",
   "execution_count": 8,
   "metadata": {},
   "outputs": [
    {
     "data": {
      "text/plain": [
       "Index(['BldgArea', 'BldgDepth', 'BuiltFAR', 'CommFAR', 'FacilFAR', 'LotArea',\n",
       "       'LotDepth', 'NumFloors', 'OfficeArea', 'ResArea', 'ResidFAR',\n",
       "       'RetailArea', 'Age', 'Period', 'ComplaintType'],\n",
       "      dtype='object')"
      ]
     },
     "execution_count": 8,
     "metadata": {},
     "output_type": "execute_result"
    }
   ],
   "source": [
    "df.columns"
   ]
  },
  {
   "cell_type": "markdown",
   "metadata": {},
   "source": [
    "### Data Preprocessing"
   ]
  },
  {
   "cell_type": "markdown",
   "metadata": {},
   "source": [
    "### Treat Duplicate Values"
   ]
  },
  {
   "cell_type": "code",
   "execution_count": 9,
   "metadata": {},
   "outputs": [
    {
     "data": {
      "text/plain": [
       "14968"
      ]
     },
     "execution_count": 9,
     "metadata": {},
     "output_type": "execute_result"
    }
   ],
   "source": [
    "df.duplicated(keep='first').sum()"
   ]
  },
  {
   "cell_type": "code",
   "execution_count": 10,
   "metadata": {},
   "outputs": [
    {
     "data": {
      "text/html": [
       "<div>\n",
       "<style scoped>\n",
       "    .dataframe tbody tr th:only-of-type {\n",
       "        vertical-align: middle;\n",
       "    }\n",
       "\n",
       "    .dataframe tbody tr th {\n",
       "        vertical-align: top;\n",
       "    }\n",
       "\n",
       "    .dataframe thead th {\n",
       "        text-align: right;\n",
       "    }\n",
       "</style>\n",
       "<table border=\"1\" class=\"dataframe\">\n",
       "  <thead>\n",
       "    <tr style=\"text-align: right;\">\n",
       "      <th></th>\n",
       "      <th>BldgArea</th>\n",
       "      <th>BldgDepth</th>\n",
       "      <th>BuiltFAR</th>\n",
       "      <th>CommFAR</th>\n",
       "      <th>FacilFAR</th>\n",
       "      <th>LotArea</th>\n",
       "      <th>LotDepth</th>\n",
       "      <th>NumFloors</th>\n",
       "      <th>OfficeArea</th>\n",
       "      <th>ResArea</th>\n",
       "      <th>ResidFAR</th>\n",
       "      <th>RetailArea</th>\n",
       "      <th>Age</th>\n",
       "      <th>Period</th>\n",
       "      <th>ComplaintType</th>\n",
       "    </tr>\n",
       "  </thead>\n",
       "  <tbody>\n",
       "    <tr>\n",
       "      <th>0</th>\n",
       "      <td>1268</td>\n",
       "      <td>35.0</td>\n",
       "      <td>0.35</td>\n",
       "      <td>2.0</td>\n",
       "      <td>2.0</td>\n",
       "      <td>3650</td>\n",
       "      <td>95.00</td>\n",
       "      <td>1.67</td>\n",
       "      <td>2628</td>\n",
       "      <td>1268</td>\n",
       "      <td>0.90</td>\n",
       "      <td>2458</td>\n",
       "      <td>50</td>\n",
       "      <td>70</td>\n",
       "      <td>0</td>\n",
       "    </tr>\n",
       "    <tr>\n",
       "      <th>2</th>\n",
       "      <td>1910</td>\n",
       "      <td>30.0</td>\n",
       "      <td>0.65</td>\n",
       "      <td>2.0</td>\n",
       "      <td>1.0</td>\n",
       "      <td>2917</td>\n",
       "      <td>58.33</td>\n",
       "      <td>2.00</td>\n",
       "      <td>2628</td>\n",
       "      <td>1910</td>\n",
       "      <td>0.60</td>\n",
       "      <td>2458</td>\n",
       "      <td>-6</td>\n",
       "      <td>14</td>\n",
       "      <td>0</td>\n",
       "    </tr>\n",
       "    <tr>\n",
       "      <th>4</th>\n",
       "      <td>924</td>\n",
       "      <td>30.0</td>\n",
       "      <td>0.51</td>\n",
       "      <td>2.0</td>\n",
       "      <td>2.0</td>\n",
       "      <td>1800</td>\n",
       "      <td>100.00</td>\n",
       "      <td>2.00</td>\n",
       "      <td>2628</td>\n",
       "      <td>924</td>\n",
       "      <td>0.90</td>\n",
       "      <td>2458</td>\n",
       "      <td>75</td>\n",
       "      <td>95</td>\n",
       "      <td>0</td>\n",
       "    </tr>\n",
       "    <tr>\n",
       "      <th>10</th>\n",
       "      <td>1600</td>\n",
       "      <td>40.0</td>\n",
       "      <td>0.64</td>\n",
       "      <td>2.0</td>\n",
       "      <td>2.0</td>\n",
       "      <td>2500</td>\n",
       "      <td>100.00</td>\n",
       "      <td>2.00</td>\n",
       "      <td>2628</td>\n",
       "      <td>1600</td>\n",
       "      <td>0.90</td>\n",
       "      <td>2458</td>\n",
       "      <td>75</td>\n",
       "      <td>95</td>\n",
       "      <td>0</td>\n",
       "    </tr>\n",
       "    <tr>\n",
       "      <th>12</th>\n",
       "      <td>1782</td>\n",
       "      <td>33.0</td>\n",
       "      <td>0.62</td>\n",
       "      <td>2.0</td>\n",
       "      <td>2.0</td>\n",
       "      <td>2884</td>\n",
       "      <td>109.50</td>\n",
       "      <td>3.00</td>\n",
       "      <td>2628</td>\n",
       "      <td>1782</td>\n",
       "      <td>0.90</td>\n",
       "      <td>2458</td>\n",
       "      <td>45</td>\n",
       "      <td>65</td>\n",
       "      <td>0</td>\n",
       "    </tr>\n",
       "    <tr>\n",
       "      <th>...</th>\n",
       "      <td>...</td>\n",
       "      <td>...</td>\n",
       "      <td>...</td>\n",
       "      <td>...</td>\n",
       "      <td>...</td>\n",
       "      <td>...</td>\n",
       "      <td>...</td>\n",
       "      <td>...</td>\n",
       "      <td>...</td>\n",
       "      <td>...</td>\n",
       "      <td>...</td>\n",
       "      <td>...</td>\n",
       "      <td>...</td>\n",
       "      <td>...</td>\n",
       "      <td>...</td>\n",
       "    </tr>\n",
       "    <tr>\n",
       "      <th>89840</th>\n",
       "      <td>1050</td>\n",
       "      <td>34.0</td>\n",
       "      <td>0.42</td>\n",
       "      <td>2.0</td>\n",
       "      <td>1.0</td>\n",
       "      <td>2500</td>\n",
       "      <td>100.00</td>\n",
       "      <td>2.00</td>\n",
       "      <td>2628</td>\n",
       "      <td>1050</td>\n",
       "      <td>0.60</td>\n",
       "      <td>2458</td>\n",
       "      <td>80</td>\n",
       "      <td>100</td>\n",
       "      <td>1</td>\n",
       "    </tr>\n",
       "    <tr>\n",
       "      <th>89842</th>\n",
       "      <td>3132</td>\n",
       "      <td>55.0</td>\n",
       "      <td>1.65</td>\n",
       "      <td>2.0</td>\n",
       "      <td>2.0</td>\n",
       "      <td>1898</td>\n",
       "      <td>94.90</td>\n",
       "      <td>2.00</td>\n",
       "      <td>2628</td>\n",
       "      <td>2088</td>\n",
       "      <td>1.10</td>\n",
       "      <td>2458</td>\n",
       "      <td>90</td>\n",
       "      <td>110</td>\n",
       "      <td>1</td>\n",
       "    </tr>\n",
       "    <tr>\n",
       "      <th>89845</th>\n",
       "      <td>1998</td>\n",
       "      <td>37.0</td>\n",
       "      <td>1.11</td>\n",
       "      <td>2.0</td>\n",
       "      <td>1.0</td>\n",
       "      <td>1800</td>\n",
       "      <td>100.00</td>\n",
       "      <td>3.00</td>\n",
       "      <td>2628</td>\n",
       "      <td>1998</td>\n",
       "      <td>0.60</td>\n",
       "      <td>2458</td>\n",
       "      <td>40</td>\n",
       "      <td>60</td>\n",
       "      <td>1</td>\n",
       "    </tr>\n",
       "    <tr>\n",
       "      <th>89849</th>\n",
       "      <td>2340</td>\n",
       "      <td>46.0</td>\n",
       "      <td>0.90</td>\n",
       "      <td>2.0</td>\n",
       "      <td>4.8</td>\n",
       "      <td>2500</td>\n",
       "      <td>100.00</td>\n",
       "      <td>2.00</td>\n",
       "      <td>2628</td>\n",
       "      <td>2000</td>\n",
       "      <td>3.44</td>\n",
       "      <td>2458</td>\n",
       "      <td>65</td>\n",
       "      <td>85</td>\n",
       "      <td>1</td>\n",
       "    </tr>\n",
       "    <tr>\n",
       "      <th>89851</th>\n",
       "      <td>2420</td>\n",
       "      <td>47.0</td>\n",
       "      <td>1.10</td>\n",
       "      <td>2.0</td>\n",
       "      <td>2.0</td>\n",
       "      <td>2204</td>\n",
       "      <td>100.17</td>\n",
       "      <td>2.00</td>\n",
       "      <td>2628</td>\n",
       "      <td>1760</td>\n",
       "      <td>0.90</td>\n",
       "      <td>2458</td>\n",
       "      <td>45</td>\n",
       "      <td>65</td>\n",
       "      <td>1</td>\n",
       "    </tr>\n",
       "  </tbody>\n",
       "</table>\n",
       "<p>21624 rows × 15 columns</p>\n",
       "</div>"
      ],
      "text/plain": [
       "       BldgArea  BldgDepth  BuiltFAR  CommFAR  FacilFAR  LotArea  LotDepth  \\\n",
       "0          1268       35.0      0.35      2.0       2.0     3650     95.00   \n",
       "2          1910       30.0      0.65      2.0       1.0     2917     58.33   \n",
       "4           924       30.0      0.51      2.0       2.0     1800    100.00   \n",
       "10         1600       40.0      0.64      2.0       2.0     2500    100.00   \n",
       "12         1782       33.0      0.62      2.0       2.0     2884    109.50   \n",
       "...         ...        ...       ...      ...       ...      ...       ...   \n",
       "89840      1050       34.0      0.42      2.0       1.0     2500    100.00   \n",
       "89842      3132       55.0      1.65      2.0       2.0     1898     94.90   \n",
       "89845      1998       37.0      1.11      2.0       1.0     1800    100.00   \n",
       "89849      2340       46.0      0.90      2.0       4.8     2500    100.00   \n",
       "89851      2420       47.0      1.10      2.0       2.0     2204    100.17   \n",
       "\n",
       "       NumFloors  OfficeArea  ResArea  ResidFAR  RetailArea  Age  Period  \\\n",
       "0           1.67        2628     1268      0.90        2458   50      70   \n",
       "2           2.00        2628     1910      0.60        2458   -6      14   \n",
       "4           2.00        2628      924      0.90        2458   75      95   \n",
       "10          2.00        2628     1600      0.90        2458   75      95   \n",
       "12          3.00        2628     1782      0.90        2458   45      65   \n",
       "...          ...         ...      ...       ...         ...  ...     ...   \n",
       "89840       2.00        2628     1050      0.60        2458   80     100   \n",
       "89842       2.00        2628     2088      1.10        2458   90     110   \n",
       "89845       3.00        2628     1998      0.60        2458   40      60   \n",
       "89849       2.00        2628     2000      3.44        2458   65      85   \n",
       "89851       2.00        2628     1760      0.90        2458   45      65   \n",
       "\n",
       "       ComplaintType  \n",
       "0                  0  \n",
       "2                  0  \n",
       "4                  0  \n",
       "10                 0  \n",
       "12                 0  \n",
       "...              ...  \n",
       "89840              1  \n",
       "89842              1  \n",
       "89845              1  \n",
       "89849              1  \n",
       "89851              1  \n",
       "\n",
       "[21624 rows x 15 columns]"
      ]
     },
     "execution_count": 10,
     "metadata": {},
     "output_type": "execute_result"
    }
   ],
   "source": [
    "df[df.duplicated(keep=False)]"
   ]
  },
  {
   "cell_type": "code",
   "execution_count": 11,
   "metadata": {},
   "outputs": [],
   "source": [
    "df.drop_duplicates(ignore_index=True, inplace=True)"
   ]
  },
  {
   "cell_type": "code",
   "execution_count": 12,
   "metadata": {},
   "outputs": [
    {
     "data": {
      "text/html": [
       "<div>\n",
       "<style scoped>\n",
       "    .dataframe tbody tr th:only-of-type {\n",
       "        vertical-align: middle;\n",
       "    }\n",
       "\n",
       "    .dataframe tbody tr th {\n",
       "        vertical-align: top;\n",
       "    }\n",
       "\n",
       "    .dataframe thead th {\n",
       "        text-align: right;\n",
       "    }\n",
       "</style>\n",
       "<table border=\"1\" class=\"dataframe\">\n",
       "  <thead>\n",
       "    <tr style=\"text-align: right;\">\n",
       "      <th></th>\n",
       "      <th>BldgArea</th>\n",
       "      <th>BldgDepth</th>\n",
       "      <th>BuiltFAR</th>\n",
       "      <th>CommFAR</th>\n",
       "      <th>FacilFAR</th>\n",
       "      <th>LotArea</th>\n",
       "      <th>LotDepth</th>\n",
       "      <th>NumFloors</th>\n",
       "      <th>OfficeArea</th>\n",
       "      <th>ResArea</th>\n",
       "      <th>ResidFAR</th>\n",
       "      <th>RetailArea</th>\n",
       "      <th>Age</th>\n",
       "      <th>Period</th>\n",
       "      <th>ComplaintType</th>\n",
       "    </tr>\n",
       "  </thead>\n",
       "  <tbody>\n",
       "    <tr>\n",
       "      <th>0</th>\n",
       "      <td>1268</td>\n",
       "      <td>35.0</td>\n",
       "      <td>0.35</td>\n",
       "      <td>2.0</td>\n",
       "      <td>2.0</td>\n",
       "      <td>3650</td>\n",
       "      <td>95.00</td>\n",
       "      <td>1.67</td>\n",
       "      <td>2628</td>\n",
       "      <td>1268</td>\n",
       "      <td>0.90</td>\n",
       "      <td>2458</td>\n",
       "      <td>50</td>\n",
       "      <td>70</td>\n",
       "      <td>0</td>\n",
       "    </tr>\n",
       "    <tr>\n",
       "      <th>1</th>\n",
       "      <td>7839</td>\n",
       "      <td>45.0</td>\n",
       "      <td>3.08</td>\n",
       "      <td>2.0</td>\n",
       "      <td>3.0</td>\n",
       "      <td>4275</td>\n",
       "      <td>45.00</td>\n",
       "      <td>5.00</td>\n",
       "      <td>2628</td>\n",
       "      <td>6018</td>\n",
       "      <td>3.00</td>\n",
       "      <td>2458</td>\n",
       "      <td>83</td>\n",
       "      <td>103</td>\n",
       "      <td>0</td>\n",
       "    </tr>\n",
       "    <tr>\n",
       "      <th>2</th>\n",
       "      <td>1910</td>\n",
       "      <td>30.0</td>\n",
       "      <td>0.65</td>\n",
       "      <td>2.0</td>\n",
       "      <td>1.0</td>\n",
       "      <td>2917</td>\n",
       "      <td>58.33</td>\n",
       "      <td>2.00</td>\n",
       "      <td>2628</td>\n",
       "      <td>1910</td>\n",
       "      <td>0.60</td>\n",
       "      <td>2458</td>\n",
       "      <td>-6</td>\n",
       "      <td>14</td>\n",
       "      <td>0</td>\n",
       "    </tr>\n",
       "    <tr>\n",
       "      <th>3</th>\n",
       "      <td>1968</td>\n",
       "      <td>40.0</td>\n",
       "      <td>0.39</td>\n",
       "      <td>2.0</td>\n",
       "      <td>1.0</td>\n",
       "      <td>5000</td>\n",
       "      <td>100.00</td>\n",
       "      <td>2.50</td>\n",
       "      <td>2628</td>\n",
       "      <td>1968</td>\n",
       "      <td>0.60</td>\n",
       "      <td>2458</td>\n",
       "      <td>75</td>\n",
       "      <td>95</td>\n",
       "      <td>1</td>\n",
       "    </tr>\n",
       "    <tr>\n",
       "      <th>4</th>\n",
       "      <td>924</td>\n",
       "      <td>30.0</td>\n",
       "      <td>0.51</td>\n",
       "      <td>2.0</td>\n",
       "      <td>2.0</td>\n",
       "      <td>1800</td>\n",
       "      <td>100.00</td>\n",
       "      <td>2.00</td>\n",
       "      <td>2628</td>\n",
       "      <td>924</td>\n",
       "      <td>0.90</td>\n",
       "      <td>2458</td>\n",
       "      <td>75</td>\n",
       "      <td>95</td>\n",
       "      <td>0</td>\n",
       "    </tr>\n",
       "    <tr>\n",
       "      <th>...</th>\n",
       "      <td>...</td>\n",
       "      <td>...</td>\n",
       "      <td>...</td>\n",
       "      <td>...</td>\n",
       "      <td>...</td>\n",
       "      <td>...</td>\n",
       "      <td>...</td>\n",
       "      <td>...</td>\n",
       "      <td>...</td>\n",
       "      <td>...</td>\n",
       "      <td>...</td>\n",
       "      <td>...</td>\n",
       "      <td>...</td>\n",
       "      <td>...</td>\n",
       "      <td>...</td>\n",
       "    </tr>\n",
       "    <tr>\n",
       "      <th>74881</th>\n",
       "      <td>7839</td>\n",
       "      <td>83.0</td>\n",
       "      <td>1.99</td>\n",
       "      <td>1.0</td>\n",
       "      <td>2.4</td>\n",
       "      <td>10400</td>\n",
       "      <td>124.68</td>\n",
       "      <td>3.00</td>\n",
       "      <td>2628</td>\n",
       "      <td>2000</td>\n",
       "      <td>1.25</td>\n",
       "      <td>2458</td>\n",
       "      <td>-13</td>\n",
       "      <td>7</td>\n",
       "      <td>1</td>\n",
       "    </tr>\n",
       "    <tr>\n",
       "      <th>74882</th>\n",
       "      <td>2340</td>\n",
       "      <td>46.0</td>\n",
       "      <td>0.90</td>\n",
       "      <td>2.0</td>\n",
       "      <td>2.0</td>\n",
       "      <td>5140</td>\n",
       "      <td>106.80</td>\n",
       "      <td>2.00</td>\n",
       "      <td>2628</td>\n",
       "      <td>2000</td>\n",
       "      <td>0.90</td>\n",
       "      <td>2458</td>\n",
       "      <td>65</td>\n",
       "      <td>85</td>\n",
       "      <td>1</td>\n",
       "    </tr>\n",
       "    <tr>\n",
       "      <th>74883</th>\n",
       "      <td>3432</td>\n",
       "      <td>52.0</td>\n",
       "      <td>1.51</td>\n",
       "      <td>2.0</td>\n",
       "      <td>2.0</td>\n",
       "      <td>2266</td>\n",
       "      <td>103.00</td>\n",
       "      <td>3.00</td>\n",
       "      <td>2628</td>\n",
       "      <td>3432</td>\n",
       "      <td>1.10</td>\n",
       "      <td>2458</td>\n",
       "      <td>35</td>\n",
       "      <td>55</td>\n",
       "      <td>1</td>\n",
       "    </tr>\n",
       "    <tr>\n",
       "      <th>74884</th>\n",
       "      <td>2320</td>\n",
       "      <td>58.0</td>\n",
       "      <td>0.93</td>\n",
       "      <td>2.0</td>\n",
       "      <td>2.0</td>\n",
       "      <td>2500</td>\n",
       "      <td>100.00</td>\n",
       "      <td>2.00</td>\n",
       "      <td>2628</td>\n",
       "      <td>2320</td>\n",
       "      <td>0.90</td>\n",
       "      <td>2458</td>\n",
       "      <td>80</td>\n",
       "      <td>100</td>\n",
       "      <td>1</td>\n",
       "    </tr>\n",
       "    <tr>\n",
       "      <th>74885</th>\n",
       "      <td>1260</td>\n",
       "      <td>35.0</td>\n",
       "      <td>0.51</td>\n",
       "      <td>2.0</td>\n",
       "      <td>2.0</td>\n",
       "      <td>2470</td>\n",
       "      <td>95.00</td>\n",
       "      <td>2.00</td>\n",
       "      <td>2628</td>\n",
       "      <td>1260</td>\n",
       "      <td>0.90</td>\n",
       "      <td>2458</td>\n",
       "      <td>60</td>\n",
       "      <td>80</td>\n",
       "      <td>1</td>\n",
       "    </tr>\n",
       "  </tbody>\n",
       "</table>\n",
       "<p>74886 rows × 15 columns</p>\n",
       "</div>"
      ],
      "text/plain": [
       "       BldgArea  BldgDepth  BuiltFAR  CommFAR  FacilFAR  LotArea  LotDepth  \\\n",
       "0          1268       35.0      0.35      2.0       2.0     3650     95.00   \n",
       "1          7839       45.0      3.08      2.0       3.0     4275     45.00   \n",
       "2          1910       30.0      0.65      2.0       1.0     2917     58.33   \n",
       "3          1968       40.0      0.39      2.0       1.0     5000    100.00   \n",
       "4           924       30.0      0.51      2.0       2.0     1800    100.00   \n",
       "...         ...        ...       ...      ...       ...      ...       ...   \n",
       "74881      7839       83.0      1.99      1.0       2.4    10400    124.68   \n",
       "74882      2340       46.0      0.90      2.0       2.0     5140    106.80   \n",
       "74883      3432       52.0      1.51      2.0       2.0     2266    103.00   \n",
       "74884      2320       58.0      0.93      2.0       2.0     2500    100.00   \n",
       "74885      1260       35.0      0.51      2.0       2.0     2470     95.00   \n",
       "\n",
       "       NumFloors  OfficeArea  ResArea  ResidFAR  RetailArea  Age  Period  \\\n",
       "0           1.67        2628     1268      0.90        2458   50      70   \n",
       "1           5.00        2628     6018      3.00        2458   83     103   \n",
       "2           2.00        2628     1910      0.60        2458   -6      14   \n",
       "3           2.50        2628     1968      0.60        2458   75      95   \n",
       "4           2.00        2628      924      0.90        2458   75      95   \n",
       "...          ...         ...      ...       ...         ...  ...     ...   \n",
       "74881       3.00        2628     2000      1.25        2458  -13       7   \n",
       "74882       2.00        2628     2000      0.90        2458   65      85   \n",
       "74883       3.00        2628     3432      1.10        2458   35      55   \n",
       "74884       2.00        2628     2320      0.90        2458   80     100   \n",
       "74885       2.00        2628     1260      0.90        2458   60      80   \n",
       "\n",
       "       ComplaintType  \n",
       "0                  0  \n",
       "1                  0  \n",
       "2                  0  \n",
       "3                  1  \n",
       "4                  0  \n",
       "...              ...  \n",
       "74881              1  \n",
       "74882              1  \n",
       "74883              1  \n",
       "74884              1  \n",
       "74885              1  \n",
       "\n",
       "[74886 rows x 15 columns]"
      ]
     },
     "execution_count": 12,
     "metadata": {},
     "output_type": "execute_result"
    }
   ],
   "source": [
    "df"
   ]
  },
  {
   "cell_type": "code",
   "execution_count": null,
   "metadata": {},
   "outputs": [],
   "source": []
  },
  {
   "cell_type": "markdown",
   "metadata": {},
   "source": [
    "### Train Test Split"
   ]
  },
  {
   "cell_type": "code",
   "execution_count": 13,
   "metadata": {},
   "outputs": [],
   "source": [
    "X = df.iloc[:,0:14]\n",
    "y = df.iloc[:,14]"
   ]
  },
  {
   "cell_type": "markdown",
   "metadata": {},
   "source": [
    "### Treat Imbalance Data"
   ]
  },
  {
   "cell_type": "code",
   "execution_count": 14,
   "metadata": {},
   "outputs": [
    {
     "data": {
      "text/plain": [
       "1    37551\n",
       "0    37335\n",
       "Name: ComplaintType, dtype: int64"
      ]
     },
     "execution_count": 14,
     "metadata": {},
     "output_type": "execute_result"
    }
   ],
   "source": [
    "y.value_counts()"
   ]
  },
  {
   "cell_type": "code",
   "execution_count": 15,
   "metadata": {},
   "outputs": [],
   "source": [
    "ros = RandomOverSampler(sampling_strategy='all',random_state=0)"
   ]
  },
  {
   "cell_type": "code",
   "execution_count": 16,
   "metadata": {},
   "outputs": [],
   "source": [
    "new_X, new_y = ros.fit_resample(X, y)"
   ]
  },
  {
   "cell_type": "code",
   "execution_count": 17,
   "metadata": {},
   "outputs": [
    {
     "data": {
      "text/plain": [
       "1    37551\n",
       "0    37551\n",
       "Name: ComplaintType, dtype: int64"
      ]
     },
     "execution_count": 17,
     "metadata": {},
     "output_type": "execute_result"
    }
   ],
   "source": [
    "new_y.value_counts()"
   ]
  },
  {
   "cell_type": "code",
   "execution_count": 18,
   "metadata": {},
   "outputs": [
    {
     "data": {
      "text/html": [
       "<div>\n",
       "<style scoped>\n",
       "    .dataframe tbody tr th:only-of-type {\n",
       "        vertical-align: middle;\n",
       "    }\n",
       "\n",
       "    .dataframe tbody tr th {\n",
       "        vertical-align: top;\n",
       "    }\n",
       "\n",
       "    .dataframe thead th {\n",
       "        text-align: right;\n",
       "    }\n",
       "</style>\n",
       "<table border=\"1\" class=\"dataframe\">\n",
       "  <thead>\n",
       "    <tr style=\"text-align: right;\">\n",
       "      <th></th>\n",
       "      <th>BldgArea</th>\n",
       "      <th>BldgDepth</th>\n",
       "      <th>BuiltFAR</th>\n",
       "      <th>CommFAR</th>\n",
       "      <th>FacilFAR</th>\n",
       "      <th>LotArea</th>\n",
       "      <th>LotDepth</th>\n",
       "      <th>NumFloors</th>\n",
       "      <th>OfficeArea</th>\n",
       "      <th>ResArea</th>\n",
       "      <th>ResidFAR</th>\n",
       "      <th>RetailArea</th>\n",
       "      <th>Age</th>\n",
       "      <th>Period</th>\n",
       "    </tr>\n",
       "  </thead>\n",
       "  <tbody>\n",
       "    <tr>\n",
       "      <th>0</th>\n",
       "      <td>1268</td>\n",
       "      <td>35.00</td>\n",
       "      <td>0.35</td>\n",
       "      <td>2.0</td>\n",
       "      <td>2.0</td>\n",
       "      <td>3650</td>\n",
       "      <td>95.00</td>\n",
       "      <td>1.67</td>\n",
       "      <td>2628</td>\n",
       "      <td>1268</td>\n",
       "      <td>0.90</td>\n",
       "      <td>2458</td>\n",
       "      <td>50</td>\n",
       "      <td>70</td>\n",
       "    </tr>\n",
       "    <tr>\n",
       "      <th>1</th>\n",
       "      <td>7839</td>\n",
       "      <td>45.00</td>\n",
       "      <td>3.08</td>\n",
       "      <td>2.0</td>\n",
       "      <td>3.0</td>\n",
       "      <td>4275</td>\n",
       "      <td>45.00</td>\n",
       "      <td>5.00</td>\n",
       "      <td>2628</td>\n",
       "      <td>6018</td>\n",
       "      <td>3.00</td>\n",
       "      <td>2458</td>\n",
       "      <td>83</td>\n",
       "      <td>103</td>\n",
       "    </tr>\n",
       "    <tr>\n",
       "      <th>2</th>\n",
       "      <td>1910</td>\n",
       "      <td>30.00</td>\n",
       "      <td>0.65</td>\n",
       "      <td>2.0</td>\n",
       "      <td>1.0</td>\n",
       "      <td>2917</td>\n",
       "      <td>58.33</td>\n",
       "      <td>2.00</td>\n",
       "      <td>2628</td>\n",
       "      <td>1910</td>\n",
       "      <td>0.60</td>\n",
       "      <td>2458</td>\n",
       "      <td>-6</td>\n",
       "      <td>14</td>\n",
       "    </tr>\n",
       "    <tr>\n",
       "      <th>3</th>\n",
       "      <td>1968</td>\n",
       "      <td>40.00</td>\n",
       "      <td>0.39</td>\n",
       "      <td>2.0</td>\n",
       "      <td>1.0</td>\n",
       "      <td>5000</td>\n",
       "      <td>100.00</td>\n",
       "      <td>2.50</td>\n",
       "      <td>2628</td>\n",
       "      <td>1968</td>\n",
       "      <td>0.60</td>\n",
       "      <td>2458</td>\n",
       "      <td>75</td>\n",
       "      <td>95</td>\n",
       "    </tr>\n",
       "    <tr>\n",
       "      <th>4</th>\n",
       "      <td>924</td>\n",
       "      <td>30.00</td>\n",
       "      <td>0.51</td>\n",
       "      <td>2.0</td>\n",
       "      <td>2.0</td>\n",
       "      <td>1800</td>\n",
       "      <td>100.00</td>\n",
       "      <td>2.00</td>\n",
       "      <td>2628</td>\n",
       "      <td>924</td>\n",
       "      <td>0.90</td>\n",
       "      <td>2458</td>\n",
       "      <td>75</td>\n",
       "      <td>95</td>\n",
       "    </tr>\n",
       "    <tr>\n",
       "      <th>...</th>\n",
       "      <td>...</td>\n",
       "      <td>...</td>\n",
       "      <td>...</td>\n",
       "      <td>...</td>\n",
       "      <td>...</td>\n",
       "      <td>...</td>\n",
       "      <td>...</td>\n",
       "      <td>...</td>\n",
       "      <td>...</td>\n",
       "      <td>...</td>\n",
       "      <td>...</td>\n",
       "      <td>...</td>\n",
       "      <td>...</td>\n",
       "      <td>...</td>\n",
       "    </tr>\n",
       "    <tr>\n",
       "      <th>75097</th>\n",
       "      <td>3300</td>\n",
       "      <td>55.00</td>\n",
       "      <td>1.74</td>\n",
       "      <td>2.0</td>\n",
       "      <td>4.8</td>\n",
       "      <td>1900</td>\n",
       "      <td>95.00</td>\n",
       "      <td>3.00</td>\n",
       "      <td>2628</td>\n",
       "      <td>3300</td>\n",
       "      <td>3.44</td>\n",
       "      <td>2458</td>\n",
       "      <td>95</td>\n",
       "      <td>115</td>\n",
       "    </tr>\n",
       "    <tr>\n",
       "      <th>75098</th>\n",
       "      <td>2580</td>\n",
       "      <td>50.00</td>\n",
       "      <td>1.03</td>\n",
       "      <td>2.0</td>\n",
       "      <td>2.0</td>\n",
       "      <td>2500</td>\n",
       "      <td>100.00</td>\n",
       "      <td>2.50</td>\n",
       "      <td>2628</td>\n",
       "      <td>2040</td>\n",
       "      <td>0.90</td>\n",
       "      <td>2458</td>\n",
       "      <td>50</td>\n",
       "      <td>70</td>\n",
       "    </tr>\n",
       "    <tr>\n",
       "      <th>75099</th>\n",
       "      <td>2664</td>\n",
       "      <td>39.75</td>\n",
       "      <td>1.14</td>\n",
       "      <td>2.0</td>\n",
       "      <td>2.0</td>\n",
       "      <td>2334</td>\n",
       "      <td>100.00</td>\n",
       "      <td>3.00</td>\n",
       "      <td>2628</td>\n",
       "      <td>2664</td>\n",
       "      <td>0.90</td>\n",
       "      <td>2458</td>\n",
       "      <td>1</td>\n",
       "      <td>21</td>\n",
       "    </tr>\n",
       "    <tr>\n",
       "      <th>75100</th>\n",
       "      <td>7839</td>\n",
       "      <td>102.00</td>\n",
       "      <td>3.08</td>\n",
       "      <td>2.0</td>\n",
       "      <td>6.5</td>\n",
       "      <td>10400</td>\n",
       "      <td>124.68</td>\n",
       "      <td>6.00</td>\n",
       "      <td>2628</td>\n",
       "      <td>6018</td>\n",
       "      <td>6.02</td>\n",
       "      <td>2458</td>\n",
       "      <td>73</td>\n",
       "      <td>93</td>\n",
       "    </tr>\n",
       "    <tr>\n",
       "      <th>75101</th>\n",
       "      <td>1960</td>\n",
       "      <td>35.00</td>\n",
       "      <td>0.70</td>\n",
       "      <td>2.0</td>\n",
       "      <td>2.0</td>\n",
       "      <td>2800</td>\n",
       "      <td>100.00</td>\n",
       "      <td>2.00</td>\n",
       "      <td>2628</td>\n",
       "      <td>1960</td>\n",
       "      <td>0.90</td>\n",
       "      <td>2458</td>\n",
       "      <td>36</td>\n",
       "      <td>56</td>\n",
       "    </tr>\n",
       "  </tbody>\n",
       "</table>\n",
       "<p>75102 rows × 14 columns</p>\n",
       "</div>"
      ],
      "text/plain": [
       "       BldgArea  BldgDepth  BuiltFAR  CommFAR  FacilFAR  LotArea  LotDepth  \\\n",
       "0          1268      35.00      0.35      2.0       2.0     3650     95.00   \n",
       "1          7839      45.00      3.08      2.0       3.0     4275     45.00   \n",
       "2          1910      30.00      0.65      2.0       1.0     2917     58.33   \n",
       "3          1968      40.00      0.39      2.0       1.0     5000    100.00   \n",
       "4           924      30.00      0.51      2.0       2.0     1800    100.00   \n",
       "...         ...        ...       ...      ...       ...      ...       ...   \n",
       "75097      3300      55.00      1.74      2.0       4.8     1900     95.00   \n",
       "75098      2580      50.00      1.03      2.0       2.0     2500    100.00   \n",
       "75099      2664      39.75      1.14      2.0       2.0     2334    100.00   \n",
       "75100      7839     102.00      3.08      2.0       6.5    10400    124.68   \n",
       "75101      1960      35.00      0.70      2.0       2.0     2800    100.00   \n",
       "\n",
       "       NumFloors  OfficeArea  ResArea  ResidFAR  RetailArea  Age  Period  \n",
       "0           1.67        2628     1268      0.90        2458   50      70  \n",
       "1           5.00        2628     6018      3.00        2458   83     103  \n",
       "2           2.00        2628     1910      0.60        2458   -6      14  \n",
       "3           2.50        2628     1968      0.60        2458   75      95  \n",
       "4           2.00        2628      924      0.90        2458   75      95  \n",
       "...          ...         ...      ...       ...         ...  ...     ...  \n",
       "75097       3.00        2628     3300      3.44        2458   95     115  \n",
       "75098       2.50        2628     2040      0.90        2458   50      70  \n",
       "75099       3.00        2628     2664      0.90        2458    1      21  \n",
       "75100       6.00        2628     6018      6.02        2458   73      93  \n",
       "75101       2.00        2628     1960      0.90        2458   36      56  \n",
       "\n",
       "[75102 rows x 14 columns]"
      ]
     },
     "execution_count": 18,
     "metadata": {},
     "output_type": "execute_result"
    }
   ],
   "source": [
    "new_X"
   ]
  },
  {
   "cell_type": "code",
   "execution_count": 19,
   "metadata": {},
   "outputs": [],
   "source": [
    "X_train, X_test, y_train, y_test = train_test_split(new_X.values, new_y.values, test_size=0.2, random_state=0)"
   ]
  },
  {
   "cell_type": "code",
   "execution_count": 20,
   "metadata": {},
   "outputs": [
    {
     "data": {
      "text/plain": [
       "((60081, 14), (15021, 14), (60081,), (15021,))"
      ]
     },
     "execution_count": 20,
     "metadata": {},
     "output_type": "execute_result"
    }
   ],
   "source": [
    "X_train.shape, X_test.shape, y_train.shape, y_test.shape"
   ]
  },
  {
   "cell_type": "markdown",
   "metadata": {},
   "source": [
    "### Feature Scaling (If not using Batch Normalization)"
   ]
  },
  {
   "cell_type": "code",
   "execution_count": 21,
   "metadata": {},
   "outputs": [
    {
     "data": {
      "text/plain": [
       "array([[2.120e+03, 5.300e+01, 8.500e-01, ..., 2.458e+03, 6.500e+01,\n",
       "        1.000e+02],\n",
       "       [5.310e+03, 1.060e+02, 9.900e-01, ..., 2.458e+03, 6.800e+01,\n",
       "        8.800e+01],\n",
       "       [3.340e+03, 5.200e+01, 1.520e+00, ..., 2.458e+03, 1.300e+01,\n",
       "        3.300e+01],\n",
       "       ...,\n",
       "       [3.500e+03, 5.058e+01, 7.600e-01, ..., 2.458e+03, 1.500e+01,\n",
       "        3.500e+01],\n",
       "       [2.709e+03, 5.000e+01, 1.350e+00, ..., 2.458e+03, 1.010e+02,\n",
       "        1.210e+02],\n",
       "       [1.116e+03, 3.450e+01, 3.900e-01, ..., 2.458e+03, 7.000e+01,\n",
       "        9.000e+01]])"
      ]
     },
     "execution_count": 21,
     "metadata": {},
     "output_type": "execute_result"
    }
   ],
   "source": [
    "X_train"
   ]
  },
  {
   "cell_type": "code",
   "execution_count": 22,
   "metadata": {},
   "outputs": [],
   "source": [
    "scaler = StandardScaler()"
   ]
  },
  {
   "cell_type": "code",
   "execution_count": 23,
   "metadata": {},
   "outputs": [],
   "source": [
    "X_train_scaled = scaler.fit_transform(X_train)"
   ]
  },
  {
   "cell_type": "code",
   "execution_count": 24,
   "metadata": {},
   "outputs": [],
   "source": [
    "X_test_scaled = scaler.transform(X_test)"
   ]
  },
  {
   "cell_type": "code",
   "execution_count": 25,
   "metadata": {},
   "outputs": [
    {
     "data": {
      "text/plain": [
       "array([[-0.4886674 ,  0.09511982, -0.32433289, ...,  0.18139025,\n",
       "         0.22932016,  0.74406443],\n",
       "       [ 1.01756922,  2.64169132, -0.13819805, ...,  0.18139025,\n",
       "         0.33338617,  0.32672869],\n",
       "       [ 0.08738548,  0.04707131,  0.56645531, ...,  0.18139025,\n",
       "        -1.57449066, -1.58606012],\n",
       "       ...,\n",
       "       [ 0.16293339, -0.02115759, -0.44399101, ...,  0.18139025,\n",
       "        -1.50511332, -1.51650416],\n",
       "       [-0.21055663, -0.04902573,  0.34043442, ...,  0.18139025,\n",
       "         1.47811226,  1.47440198],\n",
       "       [-0.96273058, -0.79377777, -0.93591883, ...,  0.18139025,\n",
       "         0.40276351,  0.39628465]])"
      ]
     },
     "execution_count": 25,
     "metadata": {},
     "output_type": "execute_result"
    }
   ],
   "source": [
    "X_train_scaled"
   ]
  },
  {
   "cell_type": "code",
   "execution_count": 26,
   "metadata": {},
   "outputs": [
    {
     "data": {
      "text/plain": [
       "array([[-0.806913  , -0.33731684, -0.57694447, ...,  0.18139025,\n",
       "        -0.11756654, -0.12538503],\n",
       "       [ 0.24414741,  0.23926538,  0.28725304, ...,  0.18139025,\n",
       "         0.92309355,  0.91795432],\n",
       "       [-0.80974605, -1.73072389, -0.72319328, ...,  0.18139025,\n",
       "         0.92309355,  0.91795432],\n",
       "       ...,\n",
       "       [ 0.621887  ,  0.33536242, -0.96250952, ...,  0.18139025,\n",
       "        -1.67855666, -1.69039405],\n",
       "       [-0.09676257, -0.04902573,  0.93872501, ...,  0.18139025,\n",
       "        -0.81133993, -0.8209446 ],\n",
       "       [ 0.21581694,  0.23926538,  0.44679719, ...,  0.18139025,\n",
       "         0.57620686,  0.57017454]])"
      ]
     },
     "execution_count": 26,
     "metadata": {},
     "output_type": "execute_result"
    }
   ],
   "source": [
    "X_test_scaled"
   ]
  },
  {
   "cell_type": "markdown",
   "metadata": {},
   "source": [
    "### Model Training"
   ]
  },
  {
   "cell_type": "markdown",
   "metadata": {},
   "source": [
    "### Using SciKit-Learn"
   ]
  },
  {
   "cell_type": "code",
   "execution_count": null,
   "metadata": {},
   "outputs": [],
   "source": [
    "modelsk =  MLPClassifier(hidden_layer_sizes=(100,),max_iter=100,random_state=0)"
   ]
  },
  {
   "cell_type": "code",
   "execution_count": null,
   "metadata": {},
   "outputs": [],
   "source": [
    "modelsk.fit(X_train_scaled,y_train)"
   ]
  },
  {
   "cell_type": "code",
   "execution_count": null,
   "metadata": {},
   "outputs": [],
   "source": [
    "modelsk.predict(X_test_scaled)"
   ]
  },
  {
   "cell_type": "code",
   "execution_count": null,
   "metadata": {},
   "outputs": [],
   "source": [
    "y_pred = modelsk.predict(X_test_scaled)"
   ]
  },
  {
   "cell_type": "code",
   "execution_count": null,
   "metadata": {},
   "outputs": [],
   "source": [
    "y_pred"
   ]
  },
  {
   "cell_type": "markdown",
   "metadata": {},
   "source": [
    "### Model Evaluation"
   ]
  },
  {
   "cell_type": "code",
   "execution_count": null,
   "metadata": {},
   "outputs": [],
   "source": [
    "cm = confusion_matrix(y_test,y_pred)\n",
    "cm"
   ]
  },
  {
   "cell_type": "code",
   "execution_count": null,
   "metadata": {},
   "outputs": [],
   "source": [
    "fig , ax = plt.subplots(figsize=(10,5))\n",
    "sns.heatmap(cm, annot=True,fmt='.4g',linewidths=2, cmap='viridis')\n",
    "plt.ylabel('True label')\n",
    "plt.xlabel('Predicted label')\n",
    "plt.show()"
   ]
  },
  {
   "cell_type": "code",
   "execution_count": null,
   "metadata": {},
   "outputs": [],
   "source": [
    "fig , ax = plt.subplots(figsize=(10,5))\n",
    "plot_confusion_matrix(modelsk,X_test_scaled,y_test,values_format='.4g',ax=ax)\n",
    "plt.show()"
   ]
  },
  {
   "cell_type": "code",
   "execution_count": null,
   "metadata": {},
   "outputs": [],
   "source": [
    "print(classification_report(y_test,y_pred))"
   ]
  },
  {
   "cell_type": "code",
   "execution_count": null,
   "metadata": {},
   "outputs": [],
   "source": [
    "plot_roc_curve(modelsk,X_test,y_test)\n",
    "plt.show()"
   ]
  },
  {
   "cell_type": "code",
   "execution_count": null,
   "metadata": {},
   "outputs": [],
   "source": [
    "mse = mean_squared_error(y_test,y_pred)\n",
    "mse"
   ]
  },
  {
   "cell_type": "code",
   "execution_count": null,
   "metadata": {},
   "outputs": [],
   "source": [
    "rmse = np.sqrt(mse)\n",
    "rmse"
   ]
  },
  {
   "cell_type": "code",
   "execution_count": null,
   "metadata": {},
   "outputs": [],
   "source": [
    "r2score = r2_score(y_test,y_pred)\n",
    "r2score"
   ]
  },
  {
   "cell_type": "code",
   "execution_count": null,
   "metadata": {},
   "outputs": [],
   "source": [
    "fig, ax = plt.subplots(figsize=(10,8))\n",
    "sns.regplot(x=y_test, y=y_pred, ax=ax)\n",
    "plt.title(\"Plot to compare actual vs predicted\")\n",
    "plt.ylabel(\"Predicted\")\n",
    "plt.xlabel(\"Actual\")\n",
    "plt.show()"
   ]
  },
  {
   "cell_type": "code",
   "execution_count": null,
   "metadata": {},
   "outputs": [],
   "source": []
  },
  {
   "cell_type": "code",
   "execution_count": null,
   "metadata": {},
   "outputs": [],
   "source": []
  },
  {
   "cell_type": "code",
   "execution_count": null,
   "metadata": {},
   "outputs": [],
   "source": []
  },
  {
   "cell_type": "markdown",
   "metadata": {},
   "source": [
    "### Using DNN"
   ]
  },
  {
   "cell_type": "code",
   "execution_count": 27,
   "metadata": {},
   "outputs": [],
   "source": [
    "model = Sequential()\n",
    "model.add(Dense(units=32,activation='relu',input_dim=14))\n",
    "model.add(Dropout(0.1))\n",
    "model.add(Dense(units=32,activation='relu'))\n",
    "model.add(Dropout(0.1))\n",
    "model.add(Dense(units=1,activation='sigmoid'))"
   ]
  },
  {
   "cell_type": "code",
   "execution_count": 28,
   "metadata": {},
   "outputs": [
    {
     "name": "stdout",
     "output_type": "stream",
     "text": [
      "Model: \"sequential\"\n",
      "_________________________________________________________________\n",
      "Layer (type)                 Output Shape              Param #   \n",
      "=================================================================\n",
      "dense (Dense)                (None, 32)                480       \n",
      "_________________________________________________________________\n",
      "dropout (Dropout)            (None, 32)                0         \n",
      "_________________________________________________________________\n",
      "dense_1 (Dense)              (None, 32)                1056      \n",
      "_________________________________________________________________\n",
      "dropout_1 (Dropout)          (None, 32)                0         \n",
      "_________________________________________________________________\n",
      "dense_2 (Dense)              (None, 1)                 33        \n",
      "=================================================================\n",
      "Total params: 1,569\n",
      "Trainable params: 1,569\n",
      "Non-trainable params: 0\n",
      "_________________________________________________________________\n"
     ]
    }
   ],
   "source": [
    "model.summary()"
   ]
  },
  {
   "cell_type": "code",
   "execution_count": 29,
   "metadata": {},
   "outputs": [],
   "source": [
    "model.compile(optimizer='Adam', loss='binary_crossentropy', metrics=[\"accuracy\"])"
   ]
  },
  {
   "cell_type": "code",
   "execution_count": 30,
   "metadata": {},
   "outputs": [
    {
     "name": "stdout",
     "output_type": "stream",
     "text": [
      "Train on 48064 samples, validate on 12017 samples\n",
      "Epoch 1/20\n",
      "48064/48064 - 1s - loss: 0.7009 - accuracy: 0.4991 - val_loss: 0.6932 - val_accuracy: 0.5076\n",
      "Epoch 2/20\n",
      "48064/48064 - 0s - loss: 0.6970 - accuracy: 0.4960 - val_loss: 0.6929 - val_accuracy: 0.5107\n",
      "Epoch 3/20\n",
      "48064/48064 - 0s - loss: 0.6946 - accuracy: 0.5024 - val_loss: 0.6935 - val_accuracy: 0.5069\n",
      "Epoch 4/20\n",
      "48064/48064 - 0s - loss: 0.6941 - accuracy: 0.5053 - val_loss: 0.6932 - val_accuracy: 0.5050\n",
      "Epoch 5/20\n",
      "48064/48064 - 0s - loss: 0.6933 - accuracy: 0.5114 - val_loss: 0.6934 - val_accuracy: 0.5000\n",
      "Epoch 6/20\n",
      "48064/48064 - 0s - loss: 0.6935 - accuracy: 0.5074 - val_loss: 0.6933 - val_accuracy: 0.5026\n",
      "Epoch 7/20\n",
      "48064/48064 - 0s - loss: 0.6932 - accuracy: 0.5070 - val_loss: 0.6936 - val_accuracy: 0.4967\n",
      "Epoch 8/20\n",
      "48064/48064 - 0s - loss: 0.6932 - accuracy: 0.5067 - val_loss: 0.6936 - val_accuracy: 0.4980\n",
      "Epoch 9/20\n",
      "48064/48064 - 0s - loss: 0.6932 - accuracy: 0.5102 - val_loss: 0.6937 - val_accuracy: 0.4942\n",
      "Epoch 10/20\n",
      "48064/48064 - 0s - loss: 0.6931 - accuracy: 0.5093 - val_loss: 0.6937 - val_accuracy: 0.4982\n",
      "Epoch 11/20\n",
      "48064/48064 - 0s - loss: 0.6931 - accuracy: 0.5081 - val_loss: 0.6937 - val_accuracy: 0.4944\n",
      "Epoch 12/20\n",
      "48064/48064 - 0s - loss: 0.6927 - accuracy: 0.5115 - val_loss: 0.6937 - val_accuracy: 0.4955\n",
      "Epoch 13/20\n",
      "48064/48064 - 0s - loss: 0.6925 - accuracy: 0.5140 - val_loss: 0.6937 - val_accuracy: 0.4923\n",
      "Epoch 14/20\n",
      "48064/48064 - 0s - loss: 0.6924 - accuracy: 0.5117 - val_loss: 0.6937 - val_accuracy: 0.4980\n",
      "Epoch 15/20\n",
      "48064/48064 - 0s - loss: 0.6928 - accuracy: 0.5126 - val_loss: 0.6936 - val_accuracy: 0.5018\n",
      "Epoch 16/20\n",
      "48064/48064 - 0s - loss: 0.6925 - accuracy: 0.5145 - val_loss: 0.6938 - val_accuracy: 0.4948\n",
      "Epoch 17/20\n",
      "48064/48064 - 0s - loss: 0.6923 - accuracy: 0.5134 - val_loss: 0.6939 - val_accuracy: 0.4980\n",
      "Epoch 18/20\n",
      "48064/48064 - 0s - loss: 0.6924 - accuracy: 0.5145 - val_loss: 0.6937 - val_accuracy: 0.4979\n",
      "Epoch 19/20\n",
      "48064/48064 - 0s - loss: 0.6923 - accuracy: 0.5155 - val_loss: 0.6939 - val_accuracy: 0.4956\n",
      "Epoch 20/20\n",
      "48064/48064 - 0s - loss: 0.6921 - accuracy: 0.5186 - val_loss: 0.6941 - val_accuracy: 0.4966\n"
     ]
    }
   ],
   "source": [
    "model_history = model.fit(X_train_scaled, y_train,batch_size=500,epochs=20,\n",
    "                          validation_split=0.2, verbose=2)"
   ]
  },
  {
   "cell_type": "code",
   "execution_count": 31,
   "metadata": {},
   "outputs": [
    {
     "data": {
      "text/plain": [
       "{'batch_size': 500,\n",
       " 'epochs': 20,\n",
       " 'steps': 97,\n",
       " 'samples': 48064,\n",
       " 'verbose': 0,\n",
       " 'do_validation': True,\n",
       " 'metrics': ['loss', 'accuracy', 'val_loss', 'val_accuracy']}"
      ]
     },
     "execution_count": 31,
     "metadata": {},
     "output_type": "execute_result"
    }
   ],
   "source": [
    "model_history.params"
   ]
  },
  {
   "cell_type": "code",
   "execution_count": 32,
   "metadata": {},
   "outputs": [
    {
     "data": {
      "text/plain": [
       "{'loss': [0.7009193669116688,\n",
       "  0.6969686267666826,\n",
       "  0.6946384024306557,\n",
       "  0.6940673852014478,\n",
       "  0.6933405616143334,\n",
       "  0.6935150144341465,\n",
       "  0.6932372158460229,\n",
       "  0.6932162166524743,\n",
       "  0.6932468203239927,\n",
       "  0.6930648257606198,\n",
       "  0.6931118534334728,\n",
       "  0.6927361597025521,\n",
       "  0.6924939035287948,\n",
       "  0.6923516381199605,\n",
       "  0.6927803414470743,\n",
       "  0.6924938536565329,\n",
       "  0.6922684932566594,\n",
       "  0.6923994911008684,\n",
       "  0.692305414851869,\n",
       "  0.6920608050783925],\n",
       " 'accuracy': [0.49908456,\n",
       "  0.49602613,\n",
       "  0.50235105,\n",
       "  0.5053262,\n",
       "  0.5114431,\n",
       "  0.5074484,\n",
       "  0.5069907,\n",
       "  0.5067202,\n",
       "  0.5101947,\n",
       "  0.5092793,\n",
       "  0.50809336,\n",
       "  0.5115055,\n",
       "  0.51404375,\n",
       "  0.51165116,\n",
       "  0.5126082,\n",
       "  0.5145431,\n",
       "  0.513378,\n",
       "  0.5145431,\n",
       "  0.5155418,\n",
       "  0.518621],\n",
       " 'val_loss': [0.6931528334382708,\n",
       "  0.6929071700353734,\n",
       "  0.6935410424676346,\n",
       "  0.6931610269713959,\n",
       "  0.693361237425668,\n",
       "  0.6933046246543149,\n",
       "  0.6935878375202127,\n",
       "  0.6936409183952013,\n",
       "  0.6936663527888288,\n",
       "  0.6937025241529603,\n",
       "  0.6937054003585523,\n",
       "  0.6936815237209326,\n",
       "  0.6937102095313167,\n",
       "  0.693653784427546,\n",
       "  0.6935698240859006,\n",
       "  0.693807389411393,\n",
       "  0.6938812246316283,\n",
       "  0.6937316283763442,\n",
       "  0.6938636217536333,\n",
       "  0.6940850705228293],\n",
       " 'val_accuracy': [0.5076142,\n",
       "  0.5106932,\n",
       "  0.50686526,\n",
       "  0.5049513,\n",
       "  0.5000416,\n",
       "  0.5026213,\n",
       "  0.49671298,\n",
       "  0.49804443,\n",
       "  0.49421653,\n",
       "  0.49821088,\n",
       "  0.49438295,\n",
       "  0.49546477,\n",
       "  0.49230257,\n",
       "  0.49804443,\n",
       "  0.50178915,\n",
       "  0.49479905,\n",
       "  0.49796122,\n",
       "  0.49787802,\n",
       "  0.4956312,\n",
       "  0.49662977]}"
      ]
     },
     "execution_count": 32,
     "metadata": {},
     "output_type": "execute_result"
    }
   ],
   "source": [
    "model_history.history"
   ]
  },
  {
   "cell_type": "code",
   "execution_count": 33,
   "metadata": {},
   "outputs": [
    {
     "data": {
      "text/html": [
       "<div>\n",
       "<style scoped>\n",
       "    .dataframe tbody tr th:only-of-type {\n",
       "        vertical-align: middle;\n",
       "    }\n",
       "\n",
       "    .dataframe tbody tr th {\n",
       "        vertical-align: top;\n",
       "    }\n",
       "\n",
       "    .dataframe thead th {\n",
       "        text-align: right;\n",
       "    }\n",
       "</style>\n",
       "<table border=\"1\" class=\"dataframe\">\n",
       "  <thead>\n",
       "    <tr style=\"text-align: right;\">\n",
       "      <th></th>\n",
       "      <th>loss</th>\n",
       "      <th>accuracy</th>\n",
       "      <th>val_loss</th>\n",
       "      <th>val_accuracy</th>\n",
       "    </tr>\n",
       "  </thead>\n",
       "  <tbody>\n",
       "    <tr>\n",
       "      <th>0</th>\n",
       "      <td>0.700919</td>\n",
       "      <td>0.499085</td>\n",
       "      <td>0.693153</td>\n",
       "      <td>0.507614</td>\n",
       "    </tr>\n",
       "    <tr>\n",
       "      <th>1</th>\n",
       "      <td>0.696969</td>\n",
       "      <td>0.496026</td>\n",
       "      <td>0.692907</td>\n",
       "      <td>0.510693</td>\n",
       "    </tr>\n",
       "    <tr>\n",
       "      <th>2</th>\n",
       "      <td>0.694638</td>\n",
       "      <td>0.502351</td>\n",
       "      <td>0.693541</td>\n",
       "      <td>0.506865</td>\n",
       "    </tr>\n",
       "    <tr>\n",
       "      <th>3</th>\n",
       "      <td>0.694067</td>\n",
       "      <td>0.505326</td>\n",
       "      <td>0.693161</td>\n",
       "      <td>0.504951</td>\n",
       "    </tr>\n",
       "    <tr>\n",
       "      <th>4</th>\n",
       "      <td>0.693341</td>\n",
       "      <td>0.511443</td>\n",
       "      <td>0.693361</td>\n",
       "      <td>0.500042</td>\n",
       "    </tr>\n",
       "    <tr>\n",
       "      <th>5</th>\n",
       "      <td>0.693515</td>\n",
       "      <td>0.507448</td>\n",
       "      <td>0.693305</td>\n",
       "      <td>0.502621</td>\n",
       "    </tr>\n",
       "    <tr>\n",
       "      <th>6</th>\n",
       "      <td>0.693237</td>\n",
       "      <td>0.506991</td>\n",
       "      <td>0.693588</td>\n",
       "      <td>0.496713</td>\n",
       "    </tr>\n",
       "    <tr>\n",
       "      <th>7</th>\n",
       "      <td>0.693216</td>\n",
       "      <td>0.506720</td>\n",
       "      <td>0.693641</td>\n",
       "      <td>0.498044</td>\n",
       "    </tr>\n",
       "    <tr>\n",
       "      <th>8</th>\n",
       "      <td>0.693247</td>\n",
       "      <td>0.510195</td>\n",
       "      <td>0.693666</td>\n",
       "      <td>0.494217</td>\n",
       "    </tr>\n",
       "    <tr>\n",
       "      <th>9</th>\n",
       "      <td>0.693065</td>\n",
       "      <td>0.509279</td>\n",
       "      <td>0.693703</td>\n",
       "      <td>0.498211</td>\n",
       "    </tr>\n",
       "    <tr>\n",
       "      <th>10</th>\n",
       "      <td>0.693112</td>\n",
       "      <td>0.508093</td>\n",
       "      <td>0.693705</td>\n",
       "      <td>0.494383</td>\n",
       "    </tr>\n",
       "    <tr>\n",
       "      <th>11</th>\n",
       "      <td>0.692736</td>\n",
       "      <td>0.511505</td>\n",
       "      <td>0.693682</td>\n",
       "      <td>0.495465</td>\n",
       "    </tr>\n",
       "    <tr>\n",
       "      <th>12</th>\n",
       "      <td>0.692494</td>\n",
       "      <td>0.514044</td>\n",
       "      <td>0.693710</td>\n",
       "      <td>0.492303</td>\n",
       "    </tr>\n",
       "    <tr>\n",
       "      <th>13</th>\n",
       "      <td>0.692352</td>\n",
       "      <td>0.511651</td>\n",
       "      <td>0.693654</td>\n",
       "      <td>0.498044</td>\n",
       "    </tr>\n",
       "    <tr>\n",
       "      <th>14</th>\n",
       "      <td>0.692780</td>\n",
       "      <td>0.512608</td>\n",
       "      <td>0.693570</td>\n",
       "      <td>0.501789</td>\n",
       "    </tr>\n",
       "    <tr>\n",
       "      <th>15</th>\n",
       "      <td>0.692494</td>\n",
       "      <td>0.514543</td>\n",
       "      <td>0.693807</td>\n",
       "      <td>0.494799</td>\n",
       "    </tr>\n",
       "    <tr>\n",
       "      <th>16</th>\n",
       "      <td>0.692268</td>\n",
       "      <td>0.513378</td>\n",
       "      <td>0.693881</td>\n",
       "      <td>0.497961</td>\n",
       "    </tr>\n",
       "    <tr>\n",
       "      <th>17</th>\n",
       "      <td>0.692399</td>\n",
       "      <td>0.514543</td>\n",
       "      <td>0.693732</td>\n",
       "      <td>0.497878</td>\n",
       "    </tr>\n",
       "    <tr>\n",
       "      <th>18</th>\n",
       "      <td>0.692305</td>\n",
       "      <td>0.515542</td>\n",
       "      <td>0.693864</td>\n",
       "      <td>0.495631</td>\n",
       "    </tr>\n",
       "    <tr>\n",
       "      <th>19</th>\n",
       "      <td>0.692061</td>\n",
       "      <td>0.518621</td>\n",
       "      <td>0.694085</td>\n",
       "      <td>0.496630</td>\n",
       "    </tr>\n",
       "  </tbody>\n",
       "</table>\n",
       "</div>"
      ],
      "text/plain": [
       "        loss  accuracy  val_loss  val_accuracy\n",
       "0   0.700919  0.499085  0.693153      0.507614\n",
       "1   0.696969  0.496026  0.692907      0.510693\n",
       "2   0.694638  0.502351  0.693541      0.506865\n",
       "3   0.694067  0.505326  0.693161      0.504951\n",
       "4   0.693341  0.511443  0.693361      0.500042\n",
       "5   0.693515  0.507448  0.693305      0.502621\n",
       "6   0.693237  0.506991  0.693588      0.496713\n",
       "7   0.693216  0.506720  0.693641      0.498044\n",
       "8   0.693247  0.510195  0.693666      0.494217\n",
       "9   0.693065  0.509279  0.693703      0.498211\n",
       "10  0.693112  0.508093  0.693705      0.494383\n",
       "11  0.692736  0.511505  0.693682      0.495465\n",
       "12  0.692494  0.514044  0.693710      0.492303\n",
       "13  0.692352  0.511651  0.693654      0.498044\n",
       "14  0.692780  0.512608  0.693570      0.501789\n",
       "15  0.692494  0.514543  0.693807      0.494799\n",
       "16  0.692268  0.513378  0.693881      0.497961\n",
       "17  0.692399  0.514543  0.693732      0.497878\n",
       "18  0.692305  0.515542  0.693864      0.495631\n",
       "19  0.692061  0.518621  0.694085      0.496630"
      ]
     },
     "execution_count": 33,
     "metadata": {},
     "output_type": "execute_result"
    }
   ],
   "source": [
    "pd.DataFrame(model_history.history)"
   ]
  },
  {
   "cell_type": "code",
   "execution_count": 34,
   "metadata": {},
   "outputs": [
    {
     "data": {
      "image/png": "[encoded data removed]",
      "text/plain": [
       "<Figure size 576x360 with 1 Axes>"
      ]
     },
     "metadata": {},
     "output_type": "display_data"
    }
   ],
   "source": [
    "pd.DataFrame(model_history.history).plot(figsize=(8,5))\n",
    "plt.grid(True)\n",
    "plt.gca()#.set_ylim(0,1)\n",
    "plt.show()"
   ]
  },
  {
   "cell_type": "code",
   "execution_count": 35,
   "metadata": {},
   "outputs": [
    {
     "data": {
      "image/png": "[encoded data removed]",
      "text/plain": [
       "<Figure size 576x360 with 1 Axes>"
      ]
     },
     "metadata": {},
     "output_type": "display_data"
    }
   ],
   "source": [
    "plt.figure(figsize=(8,5))\n",
    "plt.plot(model_history.history['loss'])\n",
    "plt.plot(model_history.history['val_loss'])\n",
    "plt.title(\"Model Training\")\n",
    "plt.ylabel(\"Training and Validation Loss\")\n",
    "plt.xlabel(\"Epoch Number\")\n",
    "plt.legend(['Training Loss', 'Validation Loss'])\n",
    "plt.show()"
   ]
  },
  {
   "cell_type": "code",
   "execution_count": 36,
   "metadata": {},
   "outputs": [
    {
     "name": "stdout",
     "output_type": "stream",
     "text": [
      "15021/15021 [==============================] - 0s 29us/sample - loss: 0.6946 - accuracy: 0.4974\n"
     ]
    },
    {
     "data": {
      "text/plain": [
       "[0.6946243053269556, 0.4974369]"
      ]
     },
     "execution_count": 36,
     "metadata": {},
     "output_type": "execute_result"
    }
   ],
   "source": [
    "model.evaluate(X_test_scaled,y_test)"
   ]
  },
  {
   "cell_type": "code",
   "execution_count": 37,
   "metadata": {},
   "outputs": [
    {
     "data": {
      "text/plain": [
       "array([0, 0, 1, ..., 0, 0, 1], dtype=int64)"
      ]
     },
     "execution_count": 37,
     "metadata": {},
     "output_type": "execute_result"
    }
   ],
   "source": [
    "y_test"
   ]
  },
  {
   "cell_type": "markdown",
   "metadata": {},
   "source": [
    "### Model Evaluation"
   ]
  },
  {
   "cell_type": "code",
   "execution_count": 38,
   "metadata": {},
   "outputs": [],
   "source": [
    "y_pred = model.predict(X_test_scaled)"
   ]
  },
  {
   "cell_type": "code",
   "execution_count": 39,
   "metadata": {},
   "outputs": [
    {
     "data": {
      "text/plain": [
       "array([[0.51298165],\n",
       "       [0.49128065],\n",
       "       [0.508266  ],\n",
       "       ...,\n",
       "       [0.4952    ],\n",
       "       [0.5062336 ],\n",
       "       [0.4938808 ]], dtype=float32)"
      ]
     },
     "execution_count": 39,
     "metadata": {},
     "output_type": "execute_result"
    }
   ],
   "source": [
    "y_pred"
   ]
  },
  {
   "cell_type": "code",
   "execution_count": 40,
   "metadata": {},
   "outputs": [
    {
     "data": {
      "text/plain": [
       "array([[0.51],\n",
       "       [0.49],\n",
       "       [0.51],\n",
       "       ...,\n",
       "       [0.5 ],\n",
       "       [0.51],\n",
       "       [0.49]], dtype=float32)"
      ]
     },
     "execution_count": 40,
     "metadata": {},
     "output_type": "execute_result"
    }
   ],
   "source": [
    "y_pred.round(2)"
   ]
  },
  {
   "cell_type": "code",
   "execution_count": 41,
   "metadata": {},
   "outputs": [],
   "source": [
    "y_class_pred =  model.predict_classes(X_test_scaled)"
   ]
  },
  {
   "cell_type": "code",
   "execution_count": 42,
   "metadata": {},
   "outputs": [
    {
     "data": {
      "text/plain": [
       "array([[1],\n",
       "       [0],\n",
       "       [1],\n",
       "       ...,\n",
       "       [0],\n",
       "       [1],\n",
       "       [0]])"
      ]
     },
     "execution_count": 42,
     "metadata": {},
     "output_type": "execute_result"
    }
   ],
   "source": [
    "y_class_pred "
   ]
  },
  {
   "cell_type": "code",
   "execution_count": 43,
   "metadata": {},
   "outputs": [
    {
     "data": {
      "text/plain": [
       "array([[4386, 3137],\n",
       "       [4412, 3086]], dtype=int64)"
      ]
     },
     "execution_count": 43,
     "metadata": {},
     "output_type": "execute_result"
    }
   ],
   "source": [
    "cm = confusion_matrix(y_test,y_class_pred)\n",
    "cm"
   ]
  },
  {
   "cell_type": "code",
   "execution_count": 44,
   "metadata": {},
   "outputs": [
    {
     "data": {
      "image/png": "[encoded data removed]",
      "text/plain": [
       "<Figure size 720x360 with 2 Axes>"
      ]
     },
     "metadata": {},
     "output_type": "display_data"
    }
   ],
   "source": [
    "fig , ax = plt.subplots(figsize=(10,5))\n",
    "sns.heatmap(cm, annot=True,fmt='.4g',linewidths=2, cmap='viridis')\n",
    "plt.ylabel('True label')\n",
    "plt.xlabel('Predicted label')\n",
    "plt.show()"
   ]
  },
  {
   "cell_type": "code",
   "execution_count": 45,
   "metadata": {},
   "outputs": [
    {
     "ename": "ValueError",
     "evalue": "plot_confusion_matrix only supports classifiers",
     "output_type": "error",
     "traceback": [
      "\u001b[1;31m---------------------------------------------------------------------------\u001b[0m",
      "\u001b[1;31mValueError\u001b[0m                                Traceback (most recent call last)",
      "\u001b[1;32m<ipython-input-45-0de8dcce875e>\u001b[0m in \u001b[0;36m<module>\u001b[1;34m\u001b[0m\n\u001b[0;32m      1\u001b[0m \u001b[0mfig\u001b[0m \u001b[1;33m,\u001b[0m \u001b[0max\u001b[0m \u001b[1;33m=\u001b[0m \u001b[0mplt\u001b[0m\u001b[1;33m.\u001b[0m\u001b[0msubplots\u001b[0m\u001b[1;33m(\u001b[0m\u001b[0mfigsize\u001b[0m\u001b[1;33m=\u001b[0m\u001b[1;33m(\u001b[0m\u001b[1;36m10\u001b[0m\u001b[1;33m,\u001b[0m\u001b[1;36m5\u001b[0m\u001b[1;33m)\u001b[0m\u001b[1;33m)\u001b[0m\u001b[1;33m\u001b[0m\u001b[1;33m\u001b[0m\u001b[0m\n\u001b[1;32m----> 2\u001b[1;33m \u001b[0mplot_confusion_matrix\u001b[0m\u001b[1;33m(\u001b[0m\u001b[0mmodel\u001b[0m\u001b[1;33m,\u001b[0m\u001b[0mX_test_scaled\u001b[0m\u001b[1;33m,\u001b[0m\u001b[0my_test\u001b[0m\u001b[1;33m,\u001b[0m\u001b[0mvalues_format\u001b[0m\u001b[1;33m=\u001b[0m\u001b[1;34m'.4g'\u001b[0m\u001b[1;33m,\u001b[0m\u001b[0max\u001b[0m\u001b[1;33m=\u001b[0m\u001b[0max\u001b[0m\u001b[1;33m)\u001b[0m\u001b[1;33m\u001b[0m\u001b[1;33m\u001b[0m\u001b[0m\n\u001b[0m\u001b[0;32m      3\u001b[0m \u001b[0mplt\u001b[0m\u001b[1;33m.\u001b[0m\u001b[0mshow\u001b[0m\u001b[1;33m(\u001b[0m\u001b[1;33m)\u001b[0m\u001b[1;33m\u001b[0m\u001b[1;33m\u001b[0m\u001b[0m\n",
      "\u001b[1;32mC:\\ProgramData\\Anaconda3\\lib\\site-packages\\sklearn\\metrics\\_plot\\confusion_matrix.py\u001b[0m in \u001b[0;36mplot_confusion_matrix\u001b[1;34m(estimator, X, y_true, labels, sample_weight, normalize, display_labels, include_values, xticks_rotation, values_format, cmap, ax)\u001b[0m\n\u001b[0;32m    181\u001b[0m \u001b[1;33m\u001b[0m\u001b[0m\n\u001b[0;32m    182\u001b[0m     \u001b[1;32mif\u001b[0m \u001b[1;32mnot\u001b[0m \u001b[0mis_classifier\u001b[0m\u001b[1;33m(\u001b[0m\u001b[0mestimator\u001b[0m\u001b[1;33m)\u001b[0m\u001b[1;33m:\u001b[0m\u001b[1;33m\u001b[0m\u001b[1;33m\u001b[0m\u001b[0m\n\u001b[1;32m--> 183\u001b[1;33m         \u001b[1;32mraise\u001b[0m \u001b[0mValueError\u001b[0m\u001b[1;33m(\u001b[0m\u001b[1;34m\"plot_confusion_matrix only supports classifiers\"\u001b[0m\u001b[1;33m)\u001b[0m\u001b[1;33m\u001b[0m\u001b[1;33m\u001b[0m\u001b[0m\n\u001b[0m\u001b[0;32m    184\u001b[0m \u001b[1;33m\u001b[0m\u001b[0m\n\u001b[0;32m    185\u001b[0m     \u001b[0my_pred\u001b[0m \u001b[1;33m=\u001b[0m \u001b[0mestimator\u001b[0m\u001b[1;33m.\u001b[0m\u001b[0mpredict\u001b[0m\u001b[1;33m(\u001b[0m\u001b[0mX\u001b[0m\u001b[1;33m)\u001b[0m\u001b[1;33m\u001b[0m\u001b[1;33m\u001b[0m\u001b[0m\n",
      "\u001b[1;31mValueError\u001b[0m: plot_confusion_matrix only supports classifiers"
     ]
    },
    {
     "data": {
      "image/png": "[encoded data removed]",
      "text/plain": [
       "<Figure size 720x360 with 1 Axes>"
      ]
     },
     "metadata": {},
     "output_type": "display_data"
    }
   ],
   "source": [
    "fig , ax = plt.subplots(figsize=(10,5))\n",
    "plot_confusion_matrix(model,X_test_scaled,y_test,values_format='.4g',ax=ax)\n",
    "plt.show()"
   ]
  },
  {
   "cell_type": "code",
   "execution_count": 46,
   "metadata": {},
   "outputs": [
    {
     "name": "stdout",
     "output_type": "stream",
     "text": [
      "              precision    recall  f1-score   support\n",
      "\n",
      "           0       0.50      0.58      0.54      7523\n",
      "           1       0.50      0.41      0.45      7498\n",
      "\n",
      "    accuracy                           0.50     15021\n",
      "   macro avg       0.50      0.50      0.49     15021\n",
      "weighted avg       0.50      0.50      0.49     15021\n",
      "\n"
     ]
    }
   ],
   "source": [
    "print(classification_report(y_test,y_class_pred))"
   ]
  },
  {
   "cell_type": "code",
   "execution_count": 47,
   "metadata": {},
   "outputs": [
    {
     "ename": "ValueError",
     "evalue": "Sequential should be a binary classifer",
     "output_type": "error",
     "traceback": [
      "\u001b[1;31m---------------------------------------------------------------------------\u001b[0m",
      "\u001b[1;31mValueError\u001b[0m                                Traceback (most recent call last)",
      "\u001b[1;32m<ipython-input-47-467e8a2c4d4d>\u001b[0m in \u001b[0;36m<module>\u001b[1;34m\u001b[0m\n\u001b[1;32m----> 1\u001b[1;33m \u001b[0mplot_roc_curve\u001b[0m\u001b[1;33m(\u001b[0m\u001b[0mmodel\u001b[0m\u001b[1;33m,\u001b[0m\u001b[0mX_test\u001b[0m\u001b[1;33m,\u001b[0m\u001b[0my_test\u001b[0m\u001b[1;33m)\u001b[0m\u001b[1;33m\u001b[0m\u001b[1;33m\u001b[0m\u001b[0m\n\u001b[0m\u001b[0;32m      2\u001b[0m \u001b[0mplt\u001b[0m\u001b[1;33m.\u001b[0m\u001b[0mshow\u001b[0m\u001b[1;33m(\u001b[0m\u001b[1;33m)\u001b[0m\u001b[1;33m\u001b[0m\u001b[1;33m\u001b[0m\u001b[0m\n",
      "\u001b[1;32mC:\\ProgramData\\Anaconda3\\lib\\site-packages\\sklearn\\metrics\\_plot\\roc_curve.py\u001b[0m in \u001b[0;36mplot_roc_curve\u001b[1;34m(estimator, X, y, sample_weight, drop_intermediate, response_method, name, ax, **kwargs)\u001b[0m\n\u001b[0;32m    169\u001b[0m         estimator.__class__.__name__))\n\u001b[0;32m    170\u001b[0m     \u001b[1;32mif\u001b[0m \u001b[1;32mnot\u001b[0m \u001b[0mis_classifier\u001b[0m\u001b[1;33m(\u001b[0m\u001b[0mestimator\u001b[0m\u001b[1;33m)\u001b[0m\u001b[1;33m:\u001b[0m\u001b[1;33m\u001b[0m\u001b[1;33m\u001b[0m\u001b[0m\n\u001b[1;32m--> 171\u001b[1;33m         \u001b[1;32mraise\u001b[0m \u001b[0mValueError\u001b[0m\u001b[1;33m(\u001b[0m\u001b[0mclassification_error\u001b[0m\u001b[1;33m)\u001b[0m\u001b[1;33m\u001b[0m\u001b[1;33m\u001b[0m\u001b[0m\n\u001b[0m\u001b[0;32m    172\u001b[0m \u001b[1;33m\u001b[0m\u001b[0m\n\u001b[0;32m    173\u001b[0m     prediction_method = _check_classifer_response_method(estimator,\n",
      "\u001b[1;31mValueError\u001b[0m: Sequential should be a binary classifer"
     ]
    }
   ],
   "source": [
    "plot_roc_curve(model,X_test,y_test)\n",
    "plt.show()"
   ]
  },
  {
   "cell_type": "code",
   "execution_count": null,
   "metadata": {},
   "outputs": [],
   "source": [
    "mse = mean_squared_error(y_test,y_pred)\n",
    "mse"
   ]
  },
  {
   "cell_type": "code",
   "execution_count": null,
   "metadata": {},
   "outputs": [],
   "source": [
    "rmse = np.sqrt(mse)\n",
    "rmse"
   ]
  },
  {
   "cell_type": "code",
   "execution_count": null,
   "metadata": {},
   "outputs": [],
   "source": [
    "r2score = r2_score(y_test,y_pred)\n",
    "r2score"
   ]
  },
  {
   "cell_type": "code",
   "execution_count": null,
   "metadata": {},
   "outputs": [],
   "source": [
    "fig, ax = plt.subplots(figsize=(10,8))\n",
    "sns.regplot(x=y_test, y=y_pred, ax=ax)\n",
    "plt.title(\"Plot to compare actual vs predicted\")\n",
    "plt.ylabel(\"Predicted\")\n",
    "plt.xlabel(\"Actual\")\n",
    "plt.show()"
   ]
  },
  {
   "cell_type": "code",
   "execution_count": null,
   "metadata": {},
   "outputs": [],
   "source": []
  },
  {
   "cell_type": "markdown",
   "metadata": {},
   "source": [
    "### Cross Validation"
   ]
  },
  {
   "cell_type": "code",
   "execution_count": null,
   "metadata": {},
   "outputs": [],
   "source": [
    "def build_classifier():\n",
    "    model = Sequential()\n",
    "    model.add(Dense(units=32,activation='relu',input_dim=14))\n",
    "    model.add(Dense(units=32,activation='relu'))\n",
    "    model.add(Dense(units=1,activation='sigmoid'))\n",
    "    model.compile(optimizer='Adam', loss='binary_crossentropy', metrics=[\"accuracy\"])\n",
    "    return model"
   ]
  },
  {
   "cell_type": "code",
   "execution_count": null,
   "metadata": {},
   "outputs": [],
   "source": [
    "model = KerasClassifier(build_fn=build_classifier, batch_size=100, epochs=10)"
   ]
  },
  {
   "cell_type": "code",
   "execution_count": null,
   "metadata": {},
   "outputs": [],
   "source": [
    "cv = cross_val_score(estimator=model,X=X_train, y=y_train, cv=5, n_jobs=-1)"
   ]
  },
  {
   "cell_type": "code",
   "execution_count": null,
   "metadata": {},
   "outputs": [],
   "source": [
    "cv"
   ]
  },
  {
   "cell_type": "code",
   "execution_count": null,
   "metadata": {},
   "outputs": [],
   "source": [
    "cv.mean()"
   ]
  },
  {
   "cell_type": "code",
   "execution_count": null,
   "metadata": {},
   "outputs": [],
   "source": [
    "cv.std()"
   ]
  },
  {
   "cell_type": "markdown",
   "metadata": {},
   "source": [
    "### Model Tuning"
   ]
  },
  {
   "cell_type": "code",
   "execution_count": null,
   "metadata": {},
   "outputs": [],
   "source": [
    "def build_classifier(optimizer):\n",
    "    model = Sequential()\n",
    "    model.add(Dense(units=32,activation='relu',input_dim=14))\n",
    "    model.add(Dense(units=32,activation='relu'))\n",
    "    model.add(Dense(units=1,activation='sigmoid'))\n",
    "    model.compile(optimizer=optimizer, loss='binary_crossentropy', metrics=[\"accuracy\"])\n",
    "    return model"
   ]
  },
  {
   "cell_type": "code",
   "execution_count": null,
   "metadata": {},
   "outputs": [],
   "source": [
    "model = KerasClassifier(build_fn=build_classifier)"
   ]
  },
  {
   "cell_type": "code",
   "execution_count": null,
   "metadata": {},
   "outputs": [],
   "source": [
    "params = {'batch_size':[200,500],\n",
    "          'epochs' : [10,20,30],\n",
    "          'optimizer' : ['Adam', 'RMSprop']\n",
    "         \n",
    "         }"
   ]
  },
  {
   "cell_type": "markdown",
   "metadata": {},
   "source": [
    "### Use RandomSearch CV"
   ]
  },
  {
   "cell_type": "code",
   "execution_count": null,
   "metadata": {},
   "outputs": [],
   "source": [
    "randomsearch = RandomizedSearchCV(estimator=model, param_distributions=params,n_iter=30,\n",
    "                                  scoring='accuracy',n_jobs=-1,cv=5)"
   ]
  },
  {
   "cell_type": "code",
   "execution_count": null,
   "metadata": {},
   "outputs": [],
   "source": [
    "randomsearchcv = randomsearch.fit(X_train, y_train)"
   ]
  },
  {
   "cell_type": "code",
   "execution_count": null,
   "metadata": {},
   "outputs": [],
   "source": [
    "randomsearchcv.best_params_"
   ]
  },
  {
   "cell_type": "code",
   "execution_count": null,
   "metadata": {},
   "outputs": [],
   "source": [
    "randomsearchcv.best_score_"
   ]
  },
  {
   "cell_type": "markdown",
   "metadata": {},
   "source": [
    "### Use GridSearch CV"
   ]
  },
  {
   "cell_type": "code",
   "execution_count": null,
   "metadata": {},
   "outputs": [],
   "source": [
    "grid = GridSearchCV(estimator=classifier, param_grid=params, verbose=1, n_jobs=-1, scoring='accuracy',cv=5)"
   ]
  },
  {
   "cell_type": "code",
   "execution_count": null,
   "metadata": {},
   "outputs": [],
   "source": [
    "grid.fit(X_train,y_train)"
   ]
  },
  {
   "cell_type": "markdown",
   "metadata": {},
   "source": [
    "### Save the Model"
   ]
  },
  {
   "cell_type": "code",
   "execution_count": null,
   "metadata": {},
   "outputs": [],
   "source": [
    "filename = 'model.sav'\n",
    "dump(xgbnew,open(filename,'wb'))"
   ]
  }
 ],
 "metadata": {
  "kernelspec": {
   "display_name": "Python 3",
   "language": "python",
   "name": "python3"
  },
  "language_info": {
   "codemirror_mode": {
    "name": "ipython",
    "version": 3
   },
   "file_extension": ".py",
   "mimetype": "text/x-python",
   "name": "python",
   "nbconvert_exporter": "python",
   "pygments_lexer": "ipython3",
   "version": "3.7.6"
  }
 },
 "nbformat": 4,
 "nbformat_minor": 4
}
